{
 "cells": [
  {
   "cell_type": "markdown",
   "metadata": {
    "colab_type": "text",
    "id": "csIKunmWIG4s"
   },
   "source": [
    "# École Polytechnique de Montréal\n",
    "\n",
    "Département Génie Informatique et Génie Logiciel\n",
    "INF8460 – Traitement automatique de la langue naturelle\n",
    "\n",
    "#### Prof. Amal Zouaq\n",
    "#### Chargé de laboratoire: Félix Martel"
   ]
  },
  {
   "cell_type": "markdown",
   "metadata": {
    "colab_type": "text",
    "id": "NPy7rPfiIG4t"
   },
   "source": [
    "# TP 3\n",
    "\n",
    "## Objectifs\n",
    "\n",
    " - Implanter des modèles de classification neuronaux\n",
    " - Utiliser des plongements lexicaux pré-entrainés\n"
   ]
  },
  {
   "cell_type": "markdown",
   "metadata": {
    "colab_type": "text",
    "id": "jnhz2ia2IG4t"
   },
   "source": [
    "## Travail à faire\n",
    "\n",
    "Comme dans le TP précédent, on va travailler sur l'analyse de sentiment en utilisant les données du [Large Movie Review Dataset](https://ai.stanford.edu/~amaas/data/sentiment/).\n",
    "\n",
    "Vous devez utiliser `scikit-learn` pour la régression logistique, et Keras pour les modèles neuronaux.\n",
    "\n",
    "Les sections 1, 2 et 3 sont indépendantes.\n",
    "\n",
    "Vous êtes libres d'appliquez les pré-traitements que vous jugerez utiles."
   ]
  },
  {
   "cell_type": "markdown",
   "metadata": {
    "colab_type": "text",
    "id": "YatD9alJIG4u"
   },
   "source": [
    "### 1. Pré-traitement et lecture de données"
   ]
  },
  {
   "cell_type": "code",
   "execution_count": 2,
   "metadata": {
    "colab": {
     "base_uri": "https://localhost:8080/",
     "height": 125
    },
    "colab_type": "code",
    "id": "y10vrzuVIG4v",
    "outputId": "6428ea44-4cae-4c02-8891-b87067815155"
   },
   "outputs": [],
   "source": [
    "# from google.colab import drive\n",
    "# drive.mount('/content/gdrive')"
   ]
  },
  {
   "cell_type": "code",
   "execution_count": 2,
   "metadata": {
    "colab": {},
    "colab_type": "code",
    "id": "E__ooy_3NfRX"
   },
   "outputs": [],
   "source": [
    "import os\n",
    "data_path = './../../TP2/data/aclImdb/'\n",
    "\n",
    "def data_reader(path):\n",
    "    \"\"\" Cette fonction lit les données text et sauvegarde les labels. \n",
    "    \n",
    "    :param path : str, Chemin vers le dossier contenant les données.\n",
    "    :return X,y: list,list, X est une liste contenant les textes et y est une liste contenant les labels\"\"\"\n",
    "    \n",
    "    X = []\n",
    "    y = []\n",
    "    for label in ['pos','neg']:\n",
    "        dir_path = path+label+'/'\n",
    "        for filename in os.listdir(dir_path) :\n",
    "            filepath = dir_path+filename\n",
    "            with open(filepath,'r', encoding = 'utf-8') as file_descriptor:\n",
    "                X.append(file_descriptor.read())\n",
    "                y.append(label)\n",
    "    return X,y\n",
    "\n",
    "X_train, y_train = data_reader(data_path+'train/')\n",
    "X_test, y_test = data_reader(data_path+'test/')"
   ]
  },
  {
   "cell_type": "code",
   "execution_count": 3,
   "metadata": {
    "colab": {},
    "colab_type": "code",
    "id": "jVB--ziMNg6v"
   },
   "outputs": [
    {
     "name": "stdout",
     "output_type": "stream",
     "text": [
      "Bromwell High is a cartoon comedy. It ran at the same time as some other programs about school life, such as \"Teachers\". My 35 years in the teaching profession lead me to believe that Bromwell High's satire is much closer to reality than is \"Teachers\". The scramble to survive financially, the insightful students who can see right through their pathetic teachers' pomp, the pettiness of the whole situation, all remind me of the schools I knew and their students. When I saw the episode in which a student repeatedly tried to burn down the school, I immediately recalled ......... at .......... High. A classic line: INSPECTOR: I'm here to sack one of your teachers. STUDENT: Welcome to Bromwell High. I expect that many adults of my age think that Bromwell High is far fetched. What a pity that it isn't!\n",
      "['bromwell', 'high', 'cartoon', 'comedy', 'ran', 'time', 'programs', 'school', 'life', 'teachers', 'years', 'teaching', 'profession', 'lead', 'believe', 'bromwell', 'high', 'satire', 'much', 'closer', 'reality', 'teachers', 'scramble', 'survive', 'financially', 'insightful', 'students', 'see', 'right', 'pathetic', 'teachers', 'pomp', 'pettiness', 'whole', 'situation', 'remind', 'schools', 'knew', 'students', 'saw', 'episode', 'student', 'repeatedly', 'tried', 'burn', 'school', 'immediately', 'recalled', 'high', 'classic', 'line', 'inspector', 'sack', 'one', 'teachers', 'student', 'welcome', 'bromwell', 'high', 'expect', 'many', 'adults', 'age', 'think', 'bromwell', 'high', 'far', 'fetched', 'pity']\n"
     ]
    }
   ],
   "source": [
    "from nltk.corpus import stopwords \n",
    "from nltk.tokenize import RegexpTokenizer\n",
    "\n",
    "stop = stopwords.words(\"english\")\n",
    "reTokenizer = RegexpTokenizer('[A-Z|a-z]+')\n",
    "\n",
    "def clean_doc(document):\n",
    "    \"\"\"Effectue les pré-traitements suivants  à un document : \n",
    "    segmentation en mots ; \n",
    "    suppression des signes de ponctuations ; \n",
    "    suppression des mots qui contiennent des caractères autres qu’alphabétiques ; \n",
    "    suppression des mots qui sont connus comme des stop words ; \n",
    "    suppression des mots qui ont une longueur de 1 caractère.\n",
    "    \n",
    "    :param sentence : str, le texte lu à partir d'un fichier de données.\n",
    "    :return : list, liste de tokens traités.\n",
    "    \"\"\"\n",
    "    \n",
    "    #Segmentation en mots et suppression des signes de ponctuation\n",
    "    tokens = reTokenizer.tokenize(document)\n",
    "    #Suppression des stopwords\n",
    "    tokens = [token.lower() for token in tokens if token.lower() not in stop]\n",
    "    #Suppression des mots d'une longueur de 1 caractère\n",
    "    tokens = [token for token in tokens if len(token) > 1]\n",
    "    return tokens\n",
    "\n",
    "def clean_corpus(corpus):\n",
    "    \"\"\"Effectue les pré-traitements suivants  à l'ensemble du corpus : \n",
    "    segmentation en mots ; \n",
    "    suppression des signes de ponctuations ; \n",
    "    suppression des mots qui contiennent des caractères autres qu’alphabétiques ; \n",
    "    suppression des mots qui sont connus comme des stop words ; \n",
    "    suppression des mots qui ont une longueur de 1 caractère.\n",
    "    \n",
    "    :param sentence : str, le texte lu à partir d'un fichier de données.\n",
    "    :return : list, liste de tokens traités.\n",
    "    \"\"\"\n",
    "    \n",
    "    return [clean_doc(doc) for doc in corpus]\n",
    "    \n",
    "\n",
    "#Affichage d'un test\n",
    "print(X_train[0])\n",
    "print(clean_doc(X_train[0]))\n",
    "\n",
    "#Application de clean_doc à l'ensemble du corpus\n",
    "X_train = clean_corpus(X_train)\n",
    "X_test = clean_corpus(X_test)"
   ]
  },
  {
   "cell_type": "code",
   "execution_count": 4,
   "metadata": {
    "colab": {},
    "colab_type": "code",
    "id": "h48AMlYpNjR9"
   },
   "outputs": [
    {
     "name": "stdout",
     "output_type": "stream",
     "text": [
      "Nombre de mots dans le vocabulaire: 28600\n"
     ]
    }
   ],
   "source": [
    "from nltk.lm.vocabulary import Vocabulary\n",
    "from nltk.lm.preprocessing import padded_everygram_pipeline\n",
    "\n",
    "def build_voc(corpus):\n",
    "    \"\"\"\n",
    "    Extrait les unigrammes de l’ensemble d’entraînement et conserve ceux qui ont une fréquence d’occurrence de 5 au moins\n",
    "    :param corpus: list(list(str)), un corpus tokenizé\n",
    "    :return: None\n",
    "    \"\"\"\n",
    "    ngrams, words = padded_everygram_pipeline(1, corpus)\n",
    "    vocab = Vocabulary(words, unk_cutoff=5)\n",
    "    print(\"Nombre de mots dans le vocabulaire:\",len(vocab)-1) \n",
    "    \n",
    "    with open('./../../TP2/output/vocab.txt',\"w\") as f:\n",
    "        for word in list(vocab)[:-1]:\n",
    "            f.write(word+'\\n')\n",
    "    f.close()\n",
    "    return None\n",
    "\n",
    "build_voc(X_train)"
   ]
  },
  {
   "cell_type": "code",
   "execution_count": 5,
   "metadata": {
    "colab": {},
    "colab_type": "code",
    "id": "PcPEjFIcNkcV"
   },
   "outputs": [
    {
     "name": "stdout",
     "output_type": "stream",
     "text": [
      "[('br', 101872), ('movie', 44047), ('film', 40162), ('one', 26795), ('like', 20281), ('good', 15147), ('time', 12727), ('even', 12656), ('would', 12436), ('story', 11990)]\n",
      "[('br', 101872), ('movie', 44047), ('film', 40162), ('one', 26795), ('like', 20281), ('good', 15147), ('time', 12727), ('even', 12656), ('would', 12436), ('story', 11990), ('really', 11739), ('see', 11479), ('well', 10668), ('much', 9766), ('get', 9312), ('bad', 9308), ('people', 9287), ('also', 9159), ('first', 9064), ('great', 9061), ('made', 8364), ('way', 8026), ('make', 8025), ('could', 7923), ('movies', 7668), ('think', 7298), ('characters', 7159), ('character', 7024), ('watch', 6974), ('two', 6906), ('films', 6889), ('seen', 6681), ('many', 6675), ('life', 6632), ('plot', 6589), ('acting', 6494), ('never', 6485), ('love', 6454), ('little', 6438), ('best', 6416), ('show', 6295), ('know', 6167), ('ever', 5998), ('man', 5982), ('better', 5740), ('end', 5651), ('still', 5624), ('say', 5396), ('scene', 5383), ('scenes', 5213), ('go', 5159), ('something', 5077), ('back', 4972), ('real', 4738), ('watching', 4606), ('though', 4566), ('thing', 4529), ('old', 4526), ('years', 4516), ('actors', 4488), ('director', 4449), ('work', 4374), ('another', 4330), ('new', 4312), ('nothing', 4291), ('funny', 4290), ('actually', 4240), ('makes', 4204), ('look', 4147), ('find', 4132), ('going', 4102), ('part', 4042), ('lot', 3980), ('every', 3979), ('world', 3835), ('cast', 3830), ('us', 3796), ('quite', 3739), ('want', 3703), ('things', 3688), ('pretty', 3664), ('young', 3660), ('seems', 3619), ('around', 3617), ('horror', 3592), ('got', 3587), ('however', 3537), ('fact', 3523), ('take', 3510), ('big', 3477), ('enough', 3453), ('long', 3452), ('thought', 3437), ('series', 3417), ('may', 3387), ('original', 3378), ('give', 3376), ('action', 3355), ('right', 3313), ('without', 3267), ('must', 3250), ('comedy', 3246), ('always', 3240), ('times', 3239), ('point', 3227), ('gets', 3204), ('family', 3202), ('role', 3189), ('come', 3189), ('saw', 3168), ('almost', 3140), ('interesting', 3129), ('least', 3113), ('done', 3096), ('whole', 3078), ('music', 3057), ('bit', 3055), ('guy', 3036), ('script', 3029), ('far', 2979), ('making', 2962), ('minutes', 2953), ('feel', 2951), ('anything', 2949), ('last', 2933), ('might', 2918), ('since', 2907), ('performance', 2898), ('girl', 2854), ('probably', 2842), ('woman', 2796), ('kind', 2783), ('tv', 2782), ('away', 2776), ('yet', 2754), ('day', 2746), ('rather', 2734), ('worst', 2732), ('fun', 2695), ('sure', 2686), ('hard', 2668), ('anyone', 2632), ('played', 2588), ('found', 2573), ('although', 2538), ('especially', 2536), ('course', 2506), ('believe', 2505), ('screen', 2493), ('comes', 2484), ('looking', 2483), ('trying', 2473), ('set', 2456), ('goes', 2442), ('book', 2421), ('looks', 2414), ('place', 2411), ('actor', 2389), ('different', 2385), ('put', 2381), ('money', 2363), ('year', 2362), ('ending', 2359), ('dvd', 2345), ('let', 2344), ('maybe', 2342), ('someone', 2339), ('true', 2333), ('sense', 2326), ('everything', 2325), ('reason', 2324), ('shows', 2308), ('three', 2296), ('worth', 2278), ('job', 2277), ('main', 2264), ('together', 2243), ('play', 2238), ('watched', 2236), ('american', 2228), ('everyone', 2223), ('plays', 2214), ('john', 2209), ('effects', 2204), ('later', 2200), ('audience', 2199), ('said', 2196), ('takes', 2192), ('instead', 2191), ('house', 2185), ('beautiful', 2178), ('seem', 2175), ('night', 2165), ('high', 2161), ('version', 2157), ('wife', 2140), ('left', 2125), ('father', 2124), ('special', 2113), ('seeing', 2099), ('half', 2095), ('star', 2087), ('excellent', 2071), ('war', 2051), ('shot', 2051), ('idea', 2043), ('black', 2036), ('nice', 2012), ('less', 2002), ('else', 2001), ('mind', 1995), ('simply', 1966), ('read', 1964), ('second', 1962), ('fan', 1911), ('death', 1909), ('men', 1909), ('hollywood', 1907), ('poor', 1897), ('help', 1896), ('completely', 1889), ('dead', 1881), ('used', 1879), ('home', 1878), ('line', 1872), ('short', 1867), ('either', 1866), ('given', 1848), ('top', 1848), ('kids', 1844), ('budget', 1837), ('try', 1831), ('classic', 1829), ('wrong', 1823), ('performances', 1822), ('women', 1819), ('enjoy', 1812), ('boring', 1812), ('need', 1807), ('use', 1804), ('rest', 1803), ('low', 1799), ('friends', 1791), ('production', 1790), ('full', 1779), ('camera', 1778), ('along', 1776), ('truly', 1743), ('video', 1731), ('awful', 1725), ('couple', 1719), ('tell', 1718), ('next', 1717), ('remember', 1703), ('stupid', 1701), ('stars', 1700), ('start', 1700), ('sex', 1685), ('perhaps', 1684), ('mean', 1683), ('came', 1673), ('recommend', 1668), ('moments', 1666), ('school', 1659), ('episode', 1659), ('wonderful', 1658), ('small', 1646), ('face', 1645), ('understand', 1644), ('terrible', 1638), ('playing', 1633), ('getting', 1627), ('written', 1616), ('early', 1605), ('name', 1604), ('often', 1601), ('keep', 1601), ('style', 1601), ('perfect', 1598), ('human', 1596), ('person', 1596), ('others', 1595), ('definitely', 1580), ('gives', 1577), ('boy', 1560), ('lost', 1554), ('lines', 1553), ('live', 1552), ('become', 1544), ('dialogue', 1542), ('head', 1541), ('piece', 1537), ('finally', 1536), ('yes', 1535), ('case', 1533), ('felt', 1528), ('mother', 1524), ('liked', 1516), ('supposed', 1516), ('children', 1510), ('title', 1497), ('cinema', 1494), ('white', 1492), ('absolutely', 1485), ('picture', 1485), ('sort', 1472), ('worse', 1469), ('certainly', 1463), ('went', 1463), ('entire', 1461), ('waste', 1458), ('killer', 1456), ('oh', 1451), ('problem', 1451), ('mr', 1448), ('evil', 1448), ('hope', 1447), ('entertaining', 1443), ('friend', 1442), ('overall', 1437), ('called', 1433), ('based', 1431), ('loved', 1428), ('fans', 1421), ('several', 1420), ('drama', 1412), ('beginning', 1401), ('lives', 1394), ('direction', 1386), ('care', 1385), ('already', 1381), ('dark', 1381), ('becomes', 1380), ('laugh', 1375), ('example', 1374), ('despite', 1365), ('seemed', 1363), ('throughout', 1361), ('turn', 1359), ('son', 1357), ('unfortunately', 1353), ('wanted', 1352), ('history', 1333), ('michael', 1333), ('final', 1329), ('heart', 1328), ('fine', 1324), ('child', 1324), ('amazing', 1321), ('sound', 1320), ('humor', 1311), ('guess', 1311), ('lead', 1310), ('totally', 1307), ('writing', 1304), ('guys', 1304), ('quality', 1301), ('close', 1296), ('art', 1293), ('wants', 1288), ('game', 1283), ('behind', 1280), ('works', 1279), ('town', 1279), ('side', 1277), ('tries', 1274), ('days', 1268), ('past', 1265), ('viewer', 1262), ('able', 1259), ('flick', 1258), ('hand', 1257), ('genre', 1256), ('turns', 1251), ('act', 1251), ('enjoyed', 1246), ('today', 1245), ('kill', 1234), ('favorite', 1232), ('car', 1225), ('soon', 1223), ('starts', 1220), ('actress', 1219), ('run', 1219), ('sometimes', 1218), ('gave', 1217), ('eyes', 1217), ('etc', 1212), ('late', 1211), ('girls', 1211), ('god', 1209), ('directed', 1204), ('horrible', 1201), ('kid', 1200), ('brilliant', 1197), ('city', 1197), ('parts', 1191), ('hour', 1189), ('blood', 1186), ('self', 1185), ('stories', 1180), ('thinking', 1179), ('expect', 1178), ('stuff', 1174), ('obviously', 1163), ('decent', 1157), ('voice', 1156), ('writer', 1153), ('fight', 1148), ('highly', 1148), ('feeling', 1145), ('daughter', 1138), ('slow', 1132), ('except', 1130), ('matter', 1127), ('type', 1125), ('age', 1121), ('anyway', 1118), ('roles', 1113), ('moment', 1112), ('killed', 1111), ('heard', 1111), ('says', 1110), ('leave', 1107), ('brother', 1107), ('took', 1100), ('strong', 1098), ('police', 1097), ('cannot', 1097), ('violence', 1093), ('hit', 1088), ('stop', 1084), ('happens', 1081), ('known', 1080), ('particularly', 1079), ('involved', 1077), ('happened', 1076), ('chance', 1069), ('extremely', 1069), ('james', 1068), ('obvious', 1066), ('told', 1063), ('murder', 1063), ('living', 1063), ('coming', 1062), ('alone', 1061), ('experience', 1059), ('lack', 1058), ('hero', 1056), ('including', 1052), ('attempt', 1050), ('please', 1047), ('happen', 1044), ('crap', 1040), ('gore', 1040), ('wonder', 1038), ('cut', 1035), ('complete', 1035), ('group', 1034), ('ago', 1033), ('interest', 1033), ('none', 1032), ('score', 1030), ('husband', 1027), ('hell', 1025), ('david', 1025), ('simple', 1023), ('save', 1023), ('ok', 1018), ('looked', 1010), ('song', 1010), ('career', 1007), ('number', 1006), ('seriously', 1002), ('possible', 1000), ('king', 999), ('annoying', 998), ('sad', 996), ('exactly', 995), ('shown', 994), ('musical', 992), ('running', 992), ('scary', 989), ('serious', 989), ('reality', 987), ('taken', 987), ('whose', 986), ('released', 986), ('english', 986), ('cinematography', 985), ('ends', 984), ('hours', 984), ('usually', 981), ('opening', 979), ('jokes', 977), ('light', 976), ('hilarious', 973), ('body', 972), ('across', 971), ('cool', 971), ('relationship', 966), ('somewhat', 966), ('usual', 965), ('ridiculous', 965), ('happy', 965), ('view', 964), ('level', 963), ('started', 963), ('change', 961), ('opinion', 959), ('novel', 958), ('wish', 957), ('middle', 956), ('talking', 955), ('taking', 955), ('documentary', 953), ('ones', 953), ('order', 951), ('robert', 951), ('finds', 948), ('shots', 948), ('power', 948), ('saying', 946), ('female', 946), ('room', 945), ('huge', 945), ('mostly', 941), ('episodes', 939), ('country', 935), ('talent', 933), ('five', 933), ('important', 931), ('rating', 930), ('modern', 929), ('earth', 928), ('strange', 927), ('major', 927), ('word', 927), ('jack', 925), ('turned', 925), ('call', 923), ('apparently', 918), ('single', 918), ('disappointed', 917), ('four', 912), ('events', 911), ('due', 909), ('songs', 908), ('attention', 906), ('basically', 906), ('television', 904), ('comic', 901), ('knows', 901), ('future', 900), ('supporting', 899), ('non', 899), ('clearly', 899), ('knew', 898), ('british', 898), ('thriller', 897), ('fast', 897), ('paul', 897), ('class', 893), ('easily', 892), ('cheap', 892), ('silly', 889), ('problems', 887), ('words', 885), ('miss', 883), ('tells', 881), ('entertainment', 879), ('local', 877), ('rock', 875), ('sequence', 875), ('bring', 869), ('beyond', 867), ('george', 864), ('straight', 864), ('oscar', 861), ('upon', 859), ('romantic', 856), ('whether', 856), ('predictable', 854), ('moving', 854), ('sets', 852), ('similar', 852), ('review', 851), ('eye', 851), ('falls', 851), ('mystery', 850), ('lady', 848), ('richard', 847), ('talk', 842), ('enjoyable', 842), ('needs', 841), ('appears', 841), ('clich', 840), ('giving', 839), ('within', 832), ('ten', 829), ('message', 829), ('theater', 828), ('animation', 826), ('near', 824), ('team', 824), ('red', 819), ('sister', 818), ('sequel', 818), ('theme', 816), ('dull', 816), ('stand', 815), ('nearly', 815), ('points', 814), ('lee', 814), ('bunch', 813), ('mention', 811), ('york', 810), ('feels', 810), ('add', 810), ('release', 807), ('ways', 804), ('storyline', 804), ('surprised', 802), ('easy', 802), ('using', 801), ('named', 800), ('lots', 799), ('fantastic', 798), ('begins', 796), ('die', 795), ('working', 794), ('actual', 793), ('effort', 792), ('feature', 791), ('tale', 790), ('french', 789), ('hate', 789), ('minute', 789), ('tom', 788), ('stay', 787), ('follow', 787), ('clear', 786), ('viewers', 786), ('among', 783), ('elements', 783), ('comments', 779), ('typical', 778), ('avoid', 776), ('editing', 775), ('showing', 775), ('tried', 773), ('season', 773), ('famous', 772), ('sorry', 771), ('fall', 770), ('peter', 770), ('check', 770), ('dialog', 769), ('period', 767), ('certain', 765), ('form', 765), ('filmed', 765), ('general', 765), ('buy', 764), ('soundtrack', 764), ('parents', 763), ('weak', 762), ('means', 761), ('material', 761), ('realistic', 758), ('figure', 758), ('doubt', 757), ('crime', 757), ('somehow', 757), ('space', 755), ('gone', 754), ('disney', 754), ('kept', 750), ('leads', 750), ('viewing', 750), ('greatest', 745), ('th', 745), ('dance', 744), ('lame', 742), ('suspense', 741), ('zombie', 740), ('third', 739), ('brought', 737), ('imagine', 737), ('atmosphere', 735), ('hear', 734), ('whatever', 732), ('particular', 730), ('de', 730), ('sequences', 728), ('america', 728), ('move', 727), ('indeed', 722), ('rent', 721), ('eventually', 720), ('average', 720), ('learn', 720), ('wait', 719), ('note', 719), ('reviews', 718), ('forget', 718), ('deal', 717), ('japanese', 716), ('surprise', 716), ('okay', 715), ('stage', 714), ('sexual', 714), ('poorly', 714), ('premise', 712), ('nature', 711), ('believable', 711), ('possibly', 709), ('sit', 709), ('subject', 709), ('decided', 705), ('expected', 704), ('imdb', 702), ('dr', 702), ('truth', 700), ('street', 699), ('free', 697), ('became', 697), ('screenplay', 695), ('difficult', 695), ('romance', 694), ('killing', 694), ('baby', 693), ('joe', 691), ('hot', 688), ('dog', 688), ('reading', 685), ('question', 685), ('leaves', 683), ('needed', 683), ('begin', 678), ('meets', 677), ('society', 676), ('directors', 675), ('unless', 675), ('credits', 674), ('superb', 671), ('otherwise', 671), ('shame', 671), ('write', 670), ('situation', 669), ('meet', 668), ('dramatic', 667), ('memorable', 666), ('male', 666), ('open', 665), ('earlier', 663), ('badly', 663), ('weird', 663), ('dream', 663), ('writers', 662), ('fi', 661), ('forced', 661), ('acted', 660), ('sci', 658), ('laughs', 658), ('emotional', 657), ('jane', 657), ('crazy', 657), ('older', 656), ('monster', 655), ('beauty', 655), ('realize', 654), ('deep', 653), ('comment', 653), ('forward', 651), ('interested', 651), ('footage', 651), ('fantasy', 649), ('ask', 648), ('plus', 645), ('sounds', 645), ('mark', 645), ('directing', 644), ('features', 643), ('keeps', 642), ('development', 642), ('mess', 641), ('quickly', 639), ('air', 639), ('creepy', 638), ('box', 638), ('towards', 637), ('perfectly', 637), ('girlfriend', 637), ('worked', 635), ('cheesy', 634), ('unique', 634), ('setting', 634), ('effect', 633), ('bill', 633), ('result', 632), ('hands', 632), ('plenty', 632), ('fire', 632), ('total', 632), ('previous', 630), ('brings', 630), ('personal', 629), ('incredibly', 628), ('rate', 627), ('business', 625), ('doctor', 625), ('return', 624), ('joke', 624), ('casting', 623), ('apart', 623), ('christmas', 623), ('leading', 622), ('admit', 621), ('powerful', 620), ('background', 620), ('appear', 620), ('cop', 620), ('boys', 618), ('ben', 617), ('present', 616), ('meant', 615), ('telling', 614), ('era', 614), ('battle', 614), ('hardly', 613), ('masterpiece', 613), ('break', 613), ('create', 612), ('potential', 612), ('secret', 611), ('pay', 610), ('gay', 609), ('dumb', 609), ('political', 609), ('fighting', 607), ('fails', 606), ('twist', 606), ('co', 604), ('various', 604), ('portrayed', 601), ('villain', 601), ('inside', 600), ('western', 600), ('nudity', 598), ('outside', 598), ('william', 596), ('reasons', 596), ('front', 595), ('ideas', 595), ('match', 594), ('missing', 594), ('deserves', 591), ('married', 590), ('expecting', 588), ('rich', 587), ('fairly', 587), ('talented', 586), ('list', 586), ('unlike', 585), ('success', 585), ('scott', 585), ('attempts', 583), ('spoilers', 583), ('manages', 583), ('remake', 583), ('odd', 582), ('social', 582), ('cute', 582), ('recently', 579), ('flat', 578), ('copy', 576), ('sadly', 575), ('wrote', 574), ('agree', 572), ('sweet', 572), ('cold', 571), ('crew', 570), ('office', 568), ('plain', 568), ('mary', 568), ('filmmakers', 566), ('following', 566), ('missed', 565), ('mentioned', 564), ('public', 564), ('incredible', 563), ('gun', 563), ('pure', 562), ('wasted', 560), ('brothers', 557), ('ended', 556), ('large', 556), ('caught', 555), ('produced', 555), ('revenge', 555), ('members', 552), ('la', 552), ('filled', 551), ('popular', 550), ('pace', 550), ('party', 550), ('waiting', 549), ('science', 549), ('cat', 547), ('water', 547), ('decides', 546), ('cartoon', 545), ('hold', 545), ('considering', 545), ('spirit', 544), ('tension', 542), ('created', 542), ('slightly', 541), ('fear', 540), ('uses', 540), ('convincing', 539), ('compared', 538), ('suddenly', 538), ('familiar', 538), ('escape', 538), ('neither', 537), ('sees', 537), ('spent', 537), ('island', 536), ('cause', 535), ('intelligent', 535), ('state', 533), ('clever', 533), ('entirely', 532), ('language', 531), ('dancing', 531), ('moves', 530), ('credit', 530), ('bored', 530), ('choice', 530), ('kills', 530), ('band', 529), ('century', 528), ('laughing', 528), ('italian', 527), ('cover', 526), ('value', 525), ('successful', 524), ('visual', 523), ('tony', 523), ('violent', 523), ('speak', 522), ('trouble', 522), ('ultimately', 521), ('concept', 520), ('basic', 520), ('singing', 520), ('store', 519), ('positive', 518), ('zombies', 518), ('studio', 517), ('animated', 516), ('german', 516), ('biggest', 515), ('exciting', 515), ('company', 515), ('force', 514), ('runs', 513), ('consider', 513), ('died', 512), ('effective', 512), ('recent', 511), ('depth', 511), ('adult', 511), ('walk', 511), ('control', 511), ('former', 510), ('adventure', 510), ('law', 510), ('common', 509), ('amusing', 509), ('focus', 509), ('portrayal', 508), ('spend', 508), ('rated', 507), ('appreciate', 507), ('books', 505), ('hair', 505), ('pointless', 505), ('trash', 504), ('solid', 503), ('younger', 503), ('planet', 502), ('impressive', 500), ('super', 500), ('tone', 500), ('mad', 499), ('bizarre', 499), ('follows', 499), ('respect', 499), ('college', 497), ('impossible', 496), ('amount', 495), ('culture', 495), ('van', 495), ('smith', 494), ('prison', 493), ('project', 492), ('trip', 492), ('heavy', 492), ('win', 491), ('producers', 491), ('dad', 491), ('slasher', 491), ('conclusion', 490), ('chemistry', 490), ('makers', 490), ('jim', 490), ('recommended', 489), ('showed', 489), ('fit', 489), ('sick', 487), ('starring', 487), ('situations', 487), ('disturbing', 485), ('awesome', 485), ('accent', 485), ('considered', 484), ('ghost', 484), ('changed', 484), ('steve', 484), ('cult', 483), ('post', 483), ('barely', 483), ('failed', 483), ('somewhere', 483), ('decide', 482), ('leaving', 482), ('honest', 481), ('anti', 480), ('questions', 479), ('shooting', 479), ('tough', 479), ('longer', 477), ('audiences', 476), ('fiction', 476), ('west', 476), ('brain', 475), ('aside', 474), ('fake', 474), ('touch', 473), ('meaning', 473), ('images', 472), ('thanks', 472), ('south', 472), ('charming', 471), ('computer', 470), ('stick', 469), ('magic', 469), ('pathetic', 468), ('ex', 468), ('literally', 468), ('generally', 468), ('stewart', 468), ('values', 467), ('likes', 466), ('surprisingly', 466), ('alive', 465), ('involving', 465), ('natural', 463), ('camp', 463), ('immediately', 462), ('military', 462), ('yeah', 462), ('grade', 462), ('harry', 461), ('week', 460), ('garbage', 460), ('london', 460), ('shoot', 460), ('detective', 460), ('bought', 458), ('frank', 458), ('normal', 457), ('sam', 456), ('aspect', 455), ('fair', 455), ('honestly', 455), ('pictures', 454), ('adaptation', 454), ('master', 454), ('ability', 454), ('utterly', 454), ('army', 454), ('genius', 453), ('nobody', 453), ('pick', 452), ('appearance', 451), ('explain', 451), ('sitting', 451), ('glad', 450), ('motion', 450), ('standard', 449), ('attack', 449), ('appeal', 448), ('drive', 448), ('catch', 447), ('knowing', 447), ('personally', 446), ('sexy', 445), ('nowhere', 443), ('channel', 442), ('rare', 442), ('edge', 441), ('humour', 441), ('added', 440), ('thank', 440), ('comedies', 439), ('silent', 439), ('journey', 439), ('purpose', 439), ('remains', 439), ('walking', 439), ('charlie', 439), ('chase', 438), ('twists', 437), ('taste', 437), ('thinks', 437), ('naked', 437), ('loud', 437), ('producer', 437), ('date', 436), ('dreams', 436), ('beautifully', 436), ('touching', 435), ('unbelievable', 435), ('road', 435), ('subtle', 435), ('club', 434), ('terrific', 433), ('terms', 433), ('mood', 432), ('equally', 432), ('wow', 432), ('wild', 432), ('door', 432), ('batman', 432), ('blue', 431), ('drawn', 430), ('kelly', 430), ('complex', 427), ('key', 426), ('fully', 426), ('mistake', 426), ('managed', 425), ('pieces', 424), ('lovely', 424), ('government', 424), ('narrative', 424), ('laughable', 424), ('bottom', 423), ('themes', 423), ('climax', 422), ('soldiers', 422), ('likely', 422), ('plan', 421), ('disappointing', 421), ('gang', 421), ('chris', 421), ('vampire', 421), ('pass', 420), ('soul', 420), ('award', 419), ('issues', 419), ('excuse', 419), ('noir', 419), ('outstanding', 418), ('costumes', 418), ('thus', 418), ('justice', 418), ('surely', 417), ('marriage', 417), ('painful', 417), ('boss', 416), ('constantly', 416), ('innocent', 416), ('victim', 416), ('christopher', 415), ('presented', 415), ('ride', 414), ('spoiler', 413), ('cinematic', 412), ('slowly', 412), ('places', 411), ('finish', 411), ('central', 411), ('hey', 411), ('contains', 411), ('train', 411), ('everybody', 411), ('presence', 410), ('manner', 410), ('details', 410), ('animals', 410), ('besides', 410), ('thrown', 409), ('historical', 408), ('charles', 408), ('photography', 407), ('charm', 407), ('allen', 407), ('hoping', 407), ('henry', 407), ('scenery', 407), ('stunning', 407), ('smart', 406), ('jones', 406), ('indian', 406), ('church', 406), ('speaking', 405), ('mysterious', 405), ('impression', 405), ('paris', 405), ('loves', 404), ('expectations', 404), ('developed', 404), ('disappointment', 404), ('green', 404), ('drug', 403), ('numbers', 403), ('color', 402), ('throw', 402), ('exception', 401), ('minor', 400), ('ahead', 400), ('double', 400), ('woods', 400), ('cry', 399), ('boyfriend', 399), ('festival', 399), ('track', 399), ('critics', 398), ('stands', 398), ('aspects', 398), ('lover', 397), ('million', 397), ('suppose', 397), ('hotel', 397), ('bother', 396), ('emotion', 396), ('opera', 396), ('sent', 395), ('feelings', 395), ('building', 395), ('brief', 395), ('serial', 394), ('acts', 394), ('mainly', 393), ('bruce', 393), ('opportunity', 393), ('forever', 393), ('filming', 393), ('support', 393), ('student', 392), ('element', 392), ('held', 391), ('names', 391), ('fascinating', 391), ('page', 391), ('emotions', 389), ('intended', 388), ('available', 388), ('twice', 387), ('bar', 387), ('dies', 386), ('six', 386), ('changes', 386), ('born', 385), ('compelling', 385), ('shock', 385), ('zero', 384), ('bed', 384), ('happening', 383), ('likable', 383), ('falling', 383), ('hurt', 382), ('lived', 382), ('puts', 380), ('tired', 380), ('jerry', 380), ('spot', 379), ('giant', 379), ('image', 379), ('pain', 379), ('offer', 378), ('ray', 378), ('confused', 377), ('al', 377), ('victims', 377), ('trailer', 377), ('suggest', 377), ('adults', 376), ('include', 376), ('difference', 376), ('fresh', 376), ('billy', 375), ('summer', 374), ('impact', 374), ('step', 373), ('event', 373), ('followed', 373), ('alien', 373), ('christian', 373), ('arthur', 373), ('fellow', 372), ('approach', 372), ('appeared', 371), ('sub', 371), ('park', 371), ('system', 370), ('actresses', 369), ('gorgeous', 369), ('putting', 369), ('mix', 368), ('confusing', 368), ('laughed', 368), ('wall', 367), ('notice', 367), ('mom', 367), ('holes', 367), ('murders', 367), ('share', 367), ('martin', 367), ('mediocre', 366), ('content', 366), ('moral', 366), ('porn', 366), ('direct', 366), ('ii', 366), ('supposedly', 365), ('americans', 365), ('rape', 365), ('race', 365), ('lacks', 365), ('flaws', 364), ('land', 362), ('worthy', 362), ('tragedy', 362), ('creative', 362), ('latter', 362), ('students', 361), ('lighting', 361), ('agent', 361), ('answer', 361), ('relationships', 361), ('gem', 361), ('random', 361), ('helps', 360), ('st', 360), ('thin', 360), ('wondering', 359), ('seven', 359), ('wise', 359), ('merely', 359), ('funniest', 359), ('proves', 359), ('paid', 358), ('finding', 358), ('hospital', 357), ('damn', 357), ('flicks', 357), ('flying', 357), ('imagination', 356), ('childhood', 356), ('stone', 356), ('delivers', 356), ('standards', 355), ('davis', 355), ('ugly', 354), ('forgotten', 354), ('beat', 354), ('ground', 353), ('jean', 353), ('attractive', 353), ('count', 352), ('impressed', 352), ('negative', 352), ('absolute', 352), ('brian', 352), ('extreme', 351), ('alan', 351), ('ms', 350), ('thoroughly', 350), ('stuck', 350), ('seconds', 350), ('provides', 350), ('lord', 349), ('inspired', 348), ('seemingly', 348), ('tragic', 348), ('becoming', 348), ('winning', 348), ('soldier', 348), ('reminded', 347), ('ship', 347), ('addition', 347), ('folks', 347), ('queen', 347), ('offers', 346), ('affair', 346), ('fell', 346), ('lose', 345), ('detail', 345), ('thats', 345), ('faces', 345), ('industry', 345), ('williams', 344), ('intense', 344), ('turning', 344), ('afraid', 343), ('collection', 343), ('pull', 342), ('fashion', 342), ('nasty', 342), ('ed', 342), ('design', 342), ('animal', 342), ('hidden', 342), ('bond', 340), ('teen', 340), ('games', 340), ('creature', 340), ('jackson', 340), ('apartment', 339), ('quick', 339), ('castle', 339), ('artistic', 339), ('shocking', 339), ('personality', 338), ('scientist', 338), ('roll', 338), ('adds', 337), ('location', 337), ('chinese', 337), ('rented', 337), ('area', 337), ('ready', 336), ('length', 336), ('angry', 336), ('dirty', 336), ('fox', 336), ('states', 336), ('information', 335), ('professional', 335), ('therefore', 335), ('uncle', 335), ('lets', 334), ('filmmaker', 334), ('anymore', 333), ('food', 333), ('wars', 332), ('mouth', 332), ('news', 331), ('listen', 331), ('artist', 331), ('jason', 331), ('led', 330), ('picked', 330), ('describe', 330), ('wooden', 330), ('danny', 330), ('asks', 329), ('favourite', 329), ('deliver', 329), ('clothes', 328), ('onto', 328), ('grace', 328), ('martial', 328), ('struggle', 327), ('intelligence', 327), ('member', 327), ('stephen', 327), ('carry', 326), ('captain', 326), ('wearing', 326), ('criminal', 326), ('redeeming', 326), ('allowed', 325), ('compare', 325), ('teenage', 325), ('cross', 325), ('cgi', 325), ('sleep', 325), ('drugs', 325), ('necessary', 324), ('helped', 324), ('machine', 324), ('desperate', 324), ('tears', 324), ('wonderfully', 324), ('rip', 324), ('sight', 323), ('moved', 322), ('plane', 322), ('witch', 322), ('trust', 321), ('phone', 321), ('deeply', 321), ('station', 321), ('includes', 321), ('sky', 321), ('heaven', 320), ('disaster', 320), ('whatsoever', 320), ('willing', 320), ('treat', 320), ('began', 319), ('theatre', 319), ('mid', 319), ('humans', 319), ('commentary', 319), ('andy', 319), ('nightmare', 318), ('epic', 318), ('build', 318), ('heroes', 318), ('accident', 318), ('pop', 317), ('realized', 317), ('energy', 317), ('powers', 317), ('suicide', 316), ('loving', 316), ('comedic', 315), ('warning', 315), ('rarely', 315), ('extra', 315), ('taylor', 315), ('douglas', 315), ('dying', 314), ('independent', 314), ('teacher', 314), ('devil', 314), ('introduced', 313), ('engaging', 312), ('ring', 312), ('superior', 312), ('johnny', 312), ('actions', 311), ('suit', 311), ('eddie', 311), ('unusual', 310), ('religious', 310), ('anybody', 310), ('arts', 310), ('mental', 309), ('apparent', 309), ('tim', 309), ('pleasure', 309), ('remarkable', 309), ('pre', 309), ('allow', 308), ('superman', 308), ('keaton', 308), ('unnecessary', 307), ('physical', 307), ('returns', 307), ('watchable', 307), ('continue', 307), ('grand', 307), ('memory', 306), ('absurd', 306), ('provide', 305), ('technical', 305), ('wedding', 305), ('media', 305), ('skip', 305), ('england', 305), ('hitler', 305), ('normally', 304), ('scared', 304), ('desire', 304), ('vision', 304), ('anywhere', 304), ('ford', 304), ('brutal', 303), ('limited', 303), ('adam', 303), ('fred', 303), ('surprising', 302), ('finished', 302), ('jr', 302), ('bloody', 302), ('russian', 302), ('joan', 302), ('intriguing', 301), ('kate', 301), ('suspect', 301), ('legend', 301), ('process', 301), ('cops', 301), ('paced', 300), ('exist', 300), ('jump', 300), ('accept', 300), ('holds', 300), ('pilot', 300), ('torture', 300), ('jeff', 300), ('player', 300), ('prince', 300), ('twenty', 299), ('nicely', 299), ('somebody', 299), ('search', 298), ('wanting', 298), ('growing', 298), ('horse', 298), ('academy', 297), ('reminds', 297), ('soft', 297), ('faith', 297), ('price', 296), ('according', 296), ('pacing', 296), ('passion', 296), ('hated', 296), ('shakespeare', 296), ('gold', 296), ('moon', 296), ('cage', 296), ('bits', 295), ('asked', 295), ('ladies', 295), ('dick', 295), ('dressed', 293), ('sat', 293), ('joy', 293), ('nick', 293), ('japan', 292), ('drunk', 292), ('dangerous', 291), ('constant', 291), ('ill', 291), ('deserved', 291), ('lovers', 291), ('heroine', 291), ('tarzan', 291), ('heads', 291), ('explanation', 290), ('blame', 290), ('field', 290), ('lies', 290), ('originally', 290), ('community', 290), ('smile', 290), ('ball', 290), ('higher', 289), ('river', 289), ('jesus', 289), ('candy', 289), ('freddy', 289), ('instance', 289), ('kevin', 289), ('ann', 288), ('issue', 287), ('mixed', 287), ('deserve', 287), ('met', 287), ('capture', 287), ('nonsense', 287), ('players', 286), ('unknown', 286), ('gotten', 286), ('toward', 285), ('plots', 285), ('soap', 285), ('fights', 285), ('explained', 285), ('fail', 285), ('radio', 284), ('knowledge', 284), ('accurate', 284), ('record', 284), ('european', 284), ('creating', 284), ('fu', 284), ('quiet', 284), ('friendship', 283), ('starting', 283), ('guns', 283), ('vhs', 283), ('humanity', 282), ('ice', 282), ('whilst', 282), ('mike', 282), ('floor', 281), ('wide', 281), ('sucks', 281), ('spanish', 281), ('officer', 280), ('cable', 280), ('memories', 279), ('judge', 279), ('cars', 279), ('realism', 279), ('finest', 278), ('loose', 278), ('villains', 278), ('eating', 278), ('broken', 278), ('lynch', 278), ('partner', 277), ('aware', 277), ('lacking', 277), ('gene', 277), ('featuring', 277), ('monsters', 277), ('saving', 276), ('saved', 276), ('keeping', 276), ('responsible', 276), ('lewis', 276), ('santa', 276), ('youth', 275), ('mine', 275), ('fat', 275), ('kinda', 275), ('empty', 275), ('treated', 275), ('understanding', 275), ('author', 275), ('morgan', 275), ('rubbish', 275), ('eat', 275), ('cuts', 274), ('wind', 274), ('pulled', 274), ('singer', 274), ('sign', 274), ('delightful', 274), ('results', 274), ('terribly', 274), ('jimmy', 274), ('bland', 274), ('hopes', 273), ('conflict', 273), ('bright', 273), ('witty', 273), ('vs', 273), ('noticed', 272), ('washington', 272), ('brown', 272), ('forces', 272), ('manage', 272), ('included', 272), ('hits', 272), ('months', 272), ('gary', 272), ('simon', 272), ('werewolf', 272), ('fate', 271), ('screaming', 271), ('loss', 271), ('wood', 271), ('sing', 271), ('kong', 270), ('whenever', 270), ('driving', 270), ('blonde', 270), ('private', 270), ('numerous', 270), ('streets', 269), ('concerned', 269), ('pretentious', 269), ('scream', 268), ('bigger', 268), ('talents', 268), ('dealing', 268), ('ordinary', 268), ('naturally', 267), ('discovered', 267), ('dated', 267), ('skills', 267), ('reviewers', 267), ('finale', 267), ('ass', 267), ('eric', 267), ('unfunny', 267), ('perspective', 266), ('psychological', 266), ('discover', 266), ('regular', 266), ('morning', 266), ('international', 266), ('opposite', 266), ('ups', 266), ('bob', 266), ('prove', 265), ('mission', 265), ('kick', 265), ('bank', 265), ('albert', 265), ('dan', 264), ('sea', 264), ('portray', 264), ('anthony', 263), ('visit', 263), ('owner', 263), ('loses', 263), ('locations', 263), ('shop', 263), ('humorous', 263), ('sean', 263), ('blind', 262), ('luck', 262), ('received', 262), ('edited', 262), ('gags', 262), ('grant', 262), ('curious', 262), ('satire', 261), ('magnificent', 261), ('captured', 261), ('continues', 261), ('behavior', 261), ('survive', 260), ('howard', 260), ('murdered', 260), ('calls', 260), ('miles', 260), ('mrs', 260), ('context', 260), ('debut', 260), ('golden', 260), ('core', 259), ('existence', 259), ('foot', 259), ('shallow', 259), ('advice', 259), ('opens', 259), ('visually', 259), ('cameo', 259), ('breaks', 259), ('gangster', 259), ('jennifer', 259), ('trek', 259), ('connection', 258), ('remembered', 258), ('traditional', 258), ('lucky', 258), ('corny', 258), ('buddy', 258), ('deals', 258), ('luke', 258), ('essentially', 257), ('current', 257), ('window', 257), ('revealed', 257), ('lesson', 256), ('occasionally', 256), ('identity', 256), ('frankly', 256), ('genuine', 256), ('harris', 256), ('decade', 255), ('dimensional', 255), ('national', 255), ('stock', 255), ('village', 255), ('african', 255), ('segment', 255), ('learned', 254), ('boat', 254), ('thomas', 254), ('efforts', 254), ('anne', 254), ('visuals', 253), ('program', 253), ('marie', 253), ('versions', 253), ('grown', 252), ('allows', 252), ('develop', 252), ('formula', 252), ('rob', 252), ('anna', 251), ('genuinely', 251), ('references', 251), ('comparison', 251), ('president', 251), ('sucked', 251), ('welles', 251), ('bear', 251), ('logic', 250), ('grew', 250), ('board', 250), ('unexpected', 250), ('study', 250), ('lake', 250), ('suffering', 250), ('favor', 250), ('desert', 250), ('overly', 249), ('reaction', 249), ('proved', 249), ('meanwhile', 249), ('speed', 249), ('ages', 249), ('standing', 249), ('vampires', 249), ('robin', 248), ('psycho', 248), ('sudden', 248), ('brilliantly', 248), ('awkward', 248), ('spectacular', 248), ('leader', 248), ('ultimate', 248), ('reach', 247), ('steal', 247), ('types', 247), ('unable', 247), ('parody', 247), ('sheer', 247), ('flesh', 247), ('failure', 247), ('evening', 246), ('killers', 246), ('passed', 246), ('travel', 246), ('stereotypes', 246), ('sake', 246), ('frame', 246), ('technology', 245), ('awards', 245), ('strength', 245), ('creates', 245), ('gordon', 245), ('drew', 245), ('sinatra', 245), ('halloween', 245), ('bet', 244), ('site', 244), ('rose', 244), ('hill', 244), ('round', 244), ('laughter', 244), ('sheriff', 244), ('delivered', 243), ('kung', 243), ('clean', 243), ('parker', 243), ('broadway', 243), ('barbara', 243), ('relief', 242), ('crappy', 242), ('freedom', 242), ('insane', 241), ('emotionally', 241), ('executed', 241), ('pair', 241), ('steven', 241), ('gonna', 241), ('model', 241), ('code', 241), ('dreadful', 240), ('discovers', 240), ('flashbacks', 240), ('decision', 240), ('reviewer', 240), ('utter', 240), ('anime', 240), ('fault', 240), ('painfully', 240), ('woody', 240), ('ran', 239), ('hunter', 239), ('families', 239), ('commercial', 239), ('graphic', 239), ('driven', 239), ('majority', 238), ('protagonist', 238), ('native', 238), ('religion', 238), ('entertained', 237), ('seasons', 237), ('meeting', 237), ('caused', 237), ('foreign', 237), ('individual', 237), ('built', 237), ('attitude', 237), ('daniel', 237), ('asian', 237), ('bomb', 237), ('gratuitous', 237), ('underrated', 236), ('vehicle', 236), ('nevertheless', 236), ('victor', 236), ('feet', 236), ('test', 236), ('cash', 236), ('wayne', 236), ('generation', 235), ('relate', 235), ('obsessed', 235), ('treatment', 235), ('levels', 235), ('rise', 235), ('endless', 235), ('tape', 234), ('range', 234), ('practically', 234), ('pleasant', 234), ('gory', 234), ('wit', 234), ('france', 234), ('costs', 234), ('classics', 233), ('aged', 233), ('ancient', 233), ('described', 233), ('chick', 233), ('exploitation', 233), ('cinderella', 233), ('victoria', 233), ('seat', 232), ('chosen', 232), ('winner', 232), ('center', 232), ('product', 232), ('sell', 232), ('fly', 232), ('joseph', 232), ('jackie', 232), ('rescue', 231), ('hearing', 231), ('fill', 231), ('rules', 231), ('breaking', 231), ('combination', 231), ('send', 231), ('angel', 231), ('alex', 231), ('irritating', 231), ('fame', 230), ('dry', 230), ('stopped', 230), ('chief', 230), ('excited', 230), ('uk', 230), ('pity', 229), ('portrays', 229), ('theaters', 229), ('proper', 229), ('haunting', 229), ('sympathetic', 229), ('par', 229), ('produce', 229), ('assume', 229), ('cares', 228), ('asking', 228), ('capable', 228), ('theatrical', 228), ('handsome', 228), ('extras', 228), ('sports', 228), ('believes', 228), ('roy', 228), ('largely', 227), ('safe', 227), ('contrived', 227), ('portraying', 227), ('warm', 227), ('germany', 227), ('ruined', 227), ('choose', 227), ('moore', 227), ('nancy', 227), ('canadian', 226), ('unrealistic', 226), ('crowd', 226), ('learns', 226), ('marry', 226), ('paper', 226), ('recall', 226), ('depressing', 226), ('matt', 226), ('priest', 226), ('embarrassing', 226), ('hearted', 225), ('louis', 225), ('dubbed', 225), ('appealing', 225), ('matters', 224), ('facts', 224), ('grow', 224), ('sequels', 224), ('clue', 224), ('ryan', 224), ('contrast', 224), ('involves', 224), ('correct', 223), ('patrick', 223), ('anderson', 223), ('evidence', 223), ('costume', 223), ('vote', 222), ('nominated', 222), ('research', 222), ('strongly', 222), ('mask', 222), ('hunt', 222), ('teenager', 222), ('claim', 222), ('heck', 222), ('hall', 221), ('disgusting', 221), ('appropriate', 221), ('eight', 221), ('walter', 221), ('excitement', 221), ('football', 221), ('losing', 220), ('saturday', 220), ('cost', 220), ('lousy', 220), ('oliver', 220), ('talks', 220), ('com', 219), ('destroy', 219), ('promise', 219), ('thoughts', 219), ('fool', 219), ('substance', 219), ('scare', 219), ('factor', 218), ('circumstances', 218), ('naive', 218), ('market', 218), ('voices', 218), ('training', 218), ('tedious', 218), ('teenagers', 217), ('haunted', 217), ('universal', 217), ('bodies', 217), ('europe', 217), ('robot', 217), ('che', 217), ('captures', 216), ('trilogy', 216), ('satisfying', 216), ('bringing', 216), ('united', 216), ('convinced', 216), ('amateurish', 216), ('hanging', 215), ('danger', 215), ('fits', 215), ('tend', 215), ('amateur', 215), ('baseball', 215), ('max', 215), ('welcome', 214), ('spoil', 214), ('lower', 214), ('rental', 214), ('hopefully', 214), ('horribly', 214), ('creatures', 214), ('tiny', 214), ('asleep', 214), ('virtually', 214), ('fairy', 214), ('north', 213), ('relatively', 213), ('mini', 213), ('till', 213), ('walks', 213), ('reporter', 213), ('powell', 213), ('murphy', 213), ('insult', 213), ('steals', 212), ('category', 212), ('hat', 212), ('skin', 212), ('covered', 212), ('cowboy', 212), ('continuity', 212), ('africa', 212), ('offensive', 211), ('cutting', 211), ('unlikely', 211), ('contemporary', 211), ('influence', 211), ('drag', 211), ('target', 211), ('lawyer', 210), ('fare', 210), ('inner', 210), ('semi', 210), ('witness', 210), ('depicted', 210), ('viewed', 210), ('scale', 210), ('handled', 210), ('texas', 210), ('hide', 210), ('hitchcock', 209), ('unfortunate', 209), ('initial', 209), ('shocked', 209), ('holding', 209), ('remain', 209), ('kim', 209), ('service', 209), ('believed', 208), ('surreal', 208), ('professor', 208), ('politics', 208), ('russell', 208), ('presents', 207), ('movement', 207), ('provided', 207), ('section', 207), ('qualities', 207), ('sisters', 207), ('promising', 207), ('weekend', 207), ('pile', 207), ('chan', 207), ('closer', 206), ('angles', 206), ('touches', 206), ('refreshing', 206), ('australian', 206), ('source', 206), ('sharp', 206), ('peace', 206), ('makeup', 206), ('liners', 206), ('structure', 206), ('columbo', 206), ('designed', 206), ('claims', 205), ('deaths', 205), ('lesbian', 205), ('display', 205), ('cartoons', 205), ('drop', 205), ('spy', 205), ('forgettable', 205), ('previously', 204), ('surprises', 204), ('adventures', 204), ('edward', 204), ('degree', 204), ('faced', 204), ('plans', 204), ('clark', 204), ('repeated', 204), ('caine', 204), ('roger', 203), ('propaganda', 203), ('enemy', 203), ('ruin', 203), ('focused', 203), ('accents', 203), ('serves', 203), ('treasure', 202), ('whoever', 202), ('supernatural', 202), ('related', 202), ('blow', 202), ('mainstream', 202), ('brave', 202), ('prime', 202), ('weeks', 202), ('cant', 202), ('chose', 202), ('speaks', 202), ('highlight', 202), ('emma', 202), ('pacino', 202), ('deadly', 201), ('latest', 201), ('erotic', 201), ('suffers', 201), ('granted', 201), ('routine', 201), ('veteran', 201), ('crash', 201), ('rain', 201), ('wilson', 200), ('dollars', 200), ('experiences', 200), ('print', 200), ('harsh', 200), ('speech', 200), ('accidentally', 200), ('mistakes', 200), ('invisible', 200), ('alice', 200), ('colors', 199), ('notch', 199), ('aliens', 199), ('teens', 199), ('twisted', 199), ('realizes', 199), ('sympathy', 199), ('uninteresting', 199), ('dogs', 199), ('mgm', 199), ('friday', 198), ('nude', 198), ('security', 198), ('guilty', 198), ('draw', 198), ('struggling', 198), ('combined', 198), ('ted', 198), ('terror', 197), ('convince', 197), ('princess', 197), ('path', 197), ('matrix', 197), ('universe', 197), ('dozen', 197), ('atrocious', 197), ('enter', 196), ('birth', 196), ('appreciated', 196), ('gritty', 196), ('mountain', 196), ('blah', 196), ('gas', 195), ('committed', 195), ('irish', 195), ('technically', 195), ('recognize', 195), ('lugosi', 195), ('frightening', 195), ('walked', 195), ('driver', 195), ('sword', 195), ('changing', 194), ('magical', 194), ('sun', 194), ('department', 194), ('aka', 194), ('sarah', 194), ('pitt', 194), ('directly', 193), ('darkness', 193), ('false', 193), ('friendly', 193), ('explains', 193), ('occasional', 193), ('court', 193), ('prior', 192), ('suspenseful', 192), ('abuse', 192), ('narration', 192), ('legendary', 192), ('experienced', 192), ('offered', 192), ('performed', 192), ('massive', 192), ('paint', 192), ('anger', 192), ('theory', 192), ('featured', 192), ('surface', 192), ('variety', 192), ('vietnam', 192), ('demons', 192), ('sullivan', 192), ('johnson', 191), ('crying', 191), ('hong', 191), ('subtitles', 191), ('kinds', 191), ('figures', 191), ('passing', 191), ('donald', 191), ('reputation', 191), ('beach', 191), ('forest', 191), ('titanic', 190), ('everywhere', 190), ('un', 190), ('multiple', 190), ('forth', 190), ('sorts', 190), ('stolen', 190), ('sunday', 190), ('required', 190), ('nazi', 190), ('network', 190), ('bourne', 190), ('junk', 190), ('statement', 190), ('reveal', 189), ('regret', 189), ('melodrama', 189), ('california', 189), ('metal', 189), ('china', 189), ('conversation', 189), ('urban', 189), ('exact', 189), ('rachel', 189), ('execution', 189), ('express', 189), ('grave', 189), ('remotely', 189), ('bbc', 189), ('scares', 189), ('spends', 188), ('lonely', 188), ('fictional', 188), ('downright', 188), ('revolution', 188), ('proud', 188), ('dean', 188), ('jungle', 188), ('hired', 188), ('julia', 188), ('placed', 188), ('belief', 188), ('rule', 188), ('freeman', 188), ('grim', 188), ('san', 188), ('trapped', 188), ('hoffman', 188), ('jon', 188), ('abandoned', 187), ('worthwhile', 187), ('lifetime', 187), ('figured', 187), ('insight', 187), ('effectively', 187), ('listening', 187), ('blockbuster', 187), ('favorites', 187), ('bus', 187), ('crude', 187), ('beast', 187), ('nation', 187), ('bothered', 187), ('afternoon', 187), ('lisa', 186), ('account', 186), ('imagery', 186), ('rough', 186), ('susan', 186), ('wear', 186), ('happiness', 186), ('unconvincing', 186), ('jobs', 186), ('dragon', 186), ('branagh', 186), ('mexico', 185), ('rings', 185), ('idiot', 185), ('angle', 185), ('alright', 185), ('foster', 185), ('sir', 185), ('minds', 185), ('delivery', 184), ('mexican', 184), ('ha', 184), ('blown', 184), ('cultural', 184), ('paying', 184), ('buying', 184), ('pulls', 184), ('von', 184), ('rights', 184), ('larry', 183), ('scenario', 183), ('reveals', 183), ('starred', 183), ('amazed', 183), ('rolling', 183), ('burns', 183), ('christ', 183), ('productions', 183), ('quest', 183), ('dude', 183), ('ron', 183), ('demon', 183), ('status', 182), ('handed', 182), ('focuses', 182), ('stays', 182), ('artists', 182), ('views', 182), ('thankfully', 182), ('mature', 182), ('bore', 182), ('significant', 182), ('tight', 182), ('shadow', 182), ('stayed', 182), ('ned', 182), ('lights', 181), ('interview', 181), ('mere', 181), ('table', 181), ('teeth', 181), ('examples', 181), ('device', 181), ('dress', 181), ('indie', 181), ('cruel', 181), ('con', 181), ('suffer', 181), ('studios', 181), ('sensitive', 181), ('ghosts', 181), ('hip', 181), ('gross', 180), ('heavily', 180), ('necessarily', 180), ('india', 180), ('skill', 180), ('mst', 180), ('sidney', 180), ('achieve', 179), ('campy', 179), ('murderer', 179), ('spite', 179), ('bound', 179), ('format', 179), ('desperately', 179), ('sleeping', 179), ('understood', 179), ('seek', 179), ('position', 179), ('initially', 178), ('faithful', 178), ('pregnant', 178), ('forgot', 178), ('fabulous', 178), ('destroyed', 178), ('beloved', 178), ('complicated', 178), ('summary', 178), ('midnight', 178), ('closing', 178), ('hardy', 178), ('flight', 177), ('decades', 177), ('deeper', 177), ('warner', 177), ('racist', 177), ('facial', 177), ('wing', 177), ('ignore', 177), ('renting', 177), ('stereotypical', 177), ('suck', 177), ('breath', 177), ('slapstick', 176), ('flashback', 176), ('expert', 176), ('calling', 176), ('raw', 176), ('cell', 176), ('intellectual', 176), ('helping', 176), ('league', 176), ('fourth', 176), ('ludicrous', 176), ('dennis', 176), ('answers', 176), ('lincoln', 176), ('disbelief', 175), ('critical', 175), ('elizabeth', 175), ('learning', 175), ('description', 175), ('environment', 175), ('settings', 175), ('reminiscent', 175), ('drinking', 175), ('prefer', 175), ('encounter', 175), ('tree', 175), ('inept', 175), ('sounded', 175), ('arms', 175), ('cabin', 175), ('musicals', 175), ('buck', 175), ('maria', 175), ('brad', 175), ('quirky', 174), ('truck', 174), ('task', 174), ('julie', 174), ('daughters', 174), ('criminals', 174), ('regarding', 174), ('underground', 174), ('amazingly', 174), ('mildly', 174), ('greater', 174), ('warned', 174), ('sandler', 174), ('leslie', 173), ('honor', 173), ('criticism', 173), ('storytelling', 173), ('titles', 173), ('screening', 173), ('punch', 173), ('extraordinary', 173), ('base', 173), ('throwing', 173), ('wave', 173), ('halfway', 173), ('funnier', 173), ('aunt', 173), ('turkey', 173), ('claire', 173), ('praise', 172), ('notorious', 172), ('depiction', 172), ('michelle', 172), ('entertain', 172), ('jail', 172), ('prepared', 171), ('comical', 171), ('choices', 171), ('convey', 171), ('lie', 171), ('extent', 171), ('expression', 171), ('trick', 171), ('originality', 171), ('kiss', 171), ('spoof', 171), ('jessica', 171), ('touched', 170), ('raised', 170), ('lane', 170), ('experiment', 170), ('east', 170), ('rogers', 170), ('brooks', 169), ('chilling', 169), ('toy', 169), ('miller', 169), ('timing', 169), ('bollywood', 169), ('inspiration', 169), ('picks', 169), ('headed', 169), ('purely', 169), ('via', 169), ('spoken', 169), ('graphics', 169), ('basis', 169), ('mirror', 169), ('dollar', 169), ('shut', 168), ('breathtaking', 168), ('novels', 168), ('stanley', 168), ('introduction', 168), ('bat', 168), ('notable', 168), ('weapons', 168), ('charge', 168), ('lazy', 168), ('mouse', 168), ('succeeds', 167), ('nowadays', 167), ('locked', 167), ('throws', 167), ('join', 167), ('everyday', 167), ('crafted', 167), ('handle', 167), ('term', 167), ('maker', 167), ('stomach', 167), ('serve', 167), ('properly', 167), ('guard', 167), ('strangely', 167), ('hole', 167), ('burt', 167), ('blair', 167), ('authentic', 166), ('causes', 166), ('ratings', 166), ('provoking', 166), ('laura', 166), ('cooper', 166), ('sitcom', 166), ('tales', 166), ('regard', 166), ('caring', 166), ('reference', 166), ('adding', 166), ('wears', 166), ('pet', 166), ('lion', 166), ('fallen', 165), ('challenge', 165), ('workers', 165), ('carrying', 165), ('lesser', 165), ('protect', 165), ('tracy', 165), ('established', 164), ('nonetheless', 164), ('amongst', 164), ('bitter', 164), ('sleazy', 164), ('wins', 164), ('daily', 164), ('jewish', 164), ('usa', 164), ('southern', 164), ('determined', 164), ('raise', 164), ('obnoxious', 164), ('westerns', 164), ('alas', 163), ('embarrassed', 163), ('remote', 163), ('carried', 163), ('confusion', 163), ('gruesome', 163), ('cases', 163), ('reed', 163), ('carries', 163), ('escapes', 163), ('sinister', 163), ('attempting', 163), ('holmes', 163), ('bettie', 163), ('inspector', 162), ('busy', 162), ('obsession', 162), ('risk', 162), ('mass', 162), ('arrives', 162), ('sold', 162), ('tradition', 162), ('needless', 162), ('replaced', 162), ('interpretation', 162), ('ironic', 162), ('clips', 162), ('essential', 162), ('minded', 162), ('enjoying', 162), ('philip', 162), ('hood', 162), ('madness', 162), ('navy', 162), ('rival', 161), ('per', 161), ('successfully', 161), ('nine', 161), ('intentions', 161), ('flow', 161), ('seeking', 161), ('exists', 161), ('mansion', 161), ('balance', 161), ('carpenter', 161), ('angels', 161), ('goofy', 161), ('existent', 161), ('stanwyck', 161), ('retarded', 161), ('screenwriter', 161), ('legs', 160), ('marvelous', 160), ('oddly', 160), ('jumps', 160), ('mentally', 160), ('em', 160), ('presentation', 160), ('topic', 160), ('attacked', 160), ('laid', 160), ('lucy', 160), ('sutherland', 160), ('jake', 160), ('horrific', 159), ('shape', 159), ('shower', 159), ('comedian', 159), ('fortunately', 159), ('jay', 159), ('vacation', 159), ('manager', 159), ('brando', 159), ('sum', 159), ('cook', 159), ('thief', 158), ('patient', 158), ('interviews', 158), ('upper', 158), ('ashamed', 158), ('intensity', 158), ('grey', 158), ('stylish', 158), ('wwii', 158), ('attacks', 158), ('wanna', 158), ('stops', 158), ('cheese', 158), ('served', 158), ('text', 158), ('stupidity', 158), ('remind', 157), ('thrilling', 157), ('delight', 157), ('sides', 157), ('tongue', 157), ('chair', 157), ('albeit', 157), ('personalities', 157), ('bridge', 157), ('mob', 157), ('glass', 157), ('fish', 157), ('sin', 157), ('frequently', 157), ('packed', 157), ('matthau', 157), ('flawed', 156), ('poignant', 156), ('suspects', 156), ('contain', 156), ('bo', 156), ('seagal', 156), ('baker', 155), ('hence', 155), ('expressions', 155), ('bette', 155), ('pitch', 155), ('stranger', 155), ('riding', 155), ('internet', 155), ('drives', 155), ('opened', 155), ('struggles', 155), ('rochester', 155), ('widmark', 155), ('torn', 154), ('spielberg', 154), ('dinner', 154), ('overcome', 154), ('cynical', 154), ('greatly', 154), ('upset', 154), ('franchise', 154), ('mindless', 154), ('revolves', 154), ('innocence', 154), ('credibility', 154), ('adapted', 154), ('refuses', 154), ('tour', 154), ('wishes', 154), ('elvis', 154), ('racism', 153), ('dubbing', 153), ('thousands', 153), ('wealthy', 153), ('warn', 153), ('storm', 153), ('credible', 153), ('pool', 153), ('corner', 153), ('lessons', 153), ('elvira', 153), ('fbi', 153), ('noble', 153), ('advantage', 153), ('italy', 153), ('catholic', 153), ('tense', 152), ('medical', 152), ('crisis', 152), ('broke', 152), ('trite', 152), ('burton', 152), ('spin', 152), ('bugs', 152), ('dentist', 152), ('happily', 152), ('alike', 152), ('hills', 152), ('arm', 152), ('controversial', 152), ('trial', 152), ('pack', 152), ('helen', 152), ('snow', 152), ('nelson', 152), ('streisand', 152), ('physically', 151), ('contact', 151), ('thrillers', 151), ('andrews', 151), ('carter', 151), ('guessing', 151), ('countries', 151), ('hundreds', 151), ('pride', 151), ('derek', 151), ('reunion', 151), ('succeed', 150), ('sexuality', 150), ('suffered', 150), ('gripping', 150), ('dislike', 150), ('perform', 150), ('performers', 150), ('technique', 150), ('card', 150), ('enjoyment', 150), ('bag', 150), ('chaplin', 150), ('wasting', 150), ('dancer', 149), ('hundred', 149), ('flash', 149), ('millions', 149), ('whereas', 149), ('britain', 149), ('neat', 149), ('sings', 149), ('ensemble', 149), ('kurt', 149), ('separate', 149), ('glimpse', 149), ('sons', 149), ('shines', 149), ('uncomfortable', 149), ('virgin', 149), ('tied', 149), ('month', 148), ('courage', 148), ('karloff', 148), ('exceptional', 148), ('hint', 148), ('infamous', 148), ('shorts', 148), ('ad', 148), ('irony', 148), ('drink', 148), ('weapon', 148), ('proof', 148), ('arnold', 148), ('assistant', 148), ('atmospheric', 148), ('holiday', 148), ('plastic', 148), ('zone', 147), ('oscars', 147), ('searching', 147), ('andrew', 147), ('connected', 147), ('scripts', 147), ('curse', 147), ('cousin', 147), ('glory', 147), ('cube', 147), ('knife', 147), ('ralph', 147), ('flynn', 147), ('host', 146), ('pg', 146), ('nose', 146), ('lying', 146), ('letting', 146), ('protagonists', 146), ('sentimental', 146), ('aired', 146), ('dear', 146), ('steps', 146), ('plague', 146), ('cameos', 146), ('troubled', 145), ('entry', 145), ('thousand', 145), ('meaningful', 145), ('quote', 145), ('suggests', 145), ('horses', 145), ('portrait', 145), ('chasing', 145), ('nd', 145), ('idiotic', 145), ('vincent', 145), ('tune', 145), ('hamlet', 145), ('massacre', 145), ('lovable', 144), ('stealing', 144), ('stretch', 144), ('perfection', 144), ('colorful', 144), ('consists', 144), ('burning', 144), ('hoped', 144), ('noted', 144), ('split', 144), ('fortune', 144), ('accepted', 144), ('hiding', 144), ('unforgettable', 144), ('develops', 144), ('stan', 144), ('boll', 144), ('saves', 143), ('annoyed', 143), ('hunting', 143), ('gain', 143), ('neighborhood', 143), ('hang', 143), ('worlds', 143), ('larger', 143), ('repeat', 143), ('spots', 143), ('redemption', 143), ('le', 143), ('guts', 143), ('equal', 143), ('miscast', 143), ('chuck', 143), ('concert', 143), ('basement', 143), ('attraction', 143), ('condition', 143), ('chases', 143), ('strip', 143), ('lucas', 143), ('belongs', 142), ('terrifying', 142), ('catherine', 142), ('destruction', 142), ('pro', 142), ('dig', 142), ('roberts', 142), ('shoots', 142), ('pat', 142), ('oil', 142), ('pie', 142), ('worry', 142), ('object', 142), ('dorothy', 142), ('guilt', 142), ('dialogs', 142), ('curtis', 142), ('glover', 142), ('factory', 142), ('walken', 142), ('thirty', 141), ('dramas', 141), ('eerie', 141), ('denzel', 141), ('boredom', 141), ('hudson', 141), ('neck', 141), ('shark', 141), ('appearing', 141), ('homeless', 140), ('ultra', 140), ('closely', 140), ('flaw', 140), ('trade', 140), ('concerns', 140), ('hanks', 140), ('eva', 140), ('gag', 140), ('imaginative', 140), ('multi', 140), ('wake', 140), ('library', 140), ('bears', 140), ('encounters', 140), ('civil', 140), ('expensive', 140), ('loser', 140), ('competent', 140), ('scientists', 140), ('complaint', 139), ('rush', 139), ('achieved', 139), ('letter', 139), ('hooked', 139), ('crimes', 139), ('checking', 139), ('weight', 139), ('neighbor', 139), ('canada', 139), ('solve', 139), ('sends', 139), ('knock', 139), ('segments', 139), ('elsewhere', 139), ('profound', 139), ('endearing', 139), ('stunts', 139), ('silver', 139), ('appearances', 139), ('lloyd', 139), ('virus', 139), ('bobby', 138), ('fashioned', 138), ('essence', 138), ('rushed', 138), ('charisma', 138), ('tribute', 138), ('tear', 138), ('eastwood', 138), ('dragged', 138), ('beating', 138), ('dare', 138), ('ripped', 138), ('carol', 138), ('rocks', 138), ('colour', 138), ('jeremy', 138), ('secretary', 138), ('huh', 138), ('winter', 138), ('incoherent', 138), ('goal', 137), ('teach', 137), ('hitting', 137), ('health', 137), ('dealt', 137), ('slight', 137), ('fest', 137), ('doc', 137), ('believing', 137), ('fitting', 137), ('noise', 137), ('spell', 137), ('cusack', 137), ('birthday', 137), ('striking', 137), ('tricks', 137), ('gothic', 136), ('tea', 136), ('attempted', 136), ('reactions', 136), ('techniques', 136), ('briefly', 136), ('stunt', 136), ('bride', 136), ('painting', 136), ('thumbs', 136), ('bush', 136), ('videos', 136), ('battles', 136), ('magazine', 136), ('countless', 136), ('dawn', 136), ('heston', 136), ('scooby', 136), ('kane', 135), ('sexually', 135), ('inspiring', 135), ('charismatic', 135), ('hearts', 135), ('specific', 135), ('pointed', 135), ('strikes', 135), ('sally', 135), ('unintentionally', 135), ('covers', 135), ('brand', 135), ('iii', 135), ('ritter', 135), ('mild', 134), ('godfather', 134), ('hype', 134), ('importance', 134), ('smoking', 134), ('surrounding', 134), ('admittedly', 134), ('carefully', 134), ('neil', 134), ('bible', 134), ('surrounded', 134), ('barry', 134), ('tons', 134), ('horrendous', 134), ('jerk', 134), ('grows', 134), ('revelation', 133), ('relevant', 133), ('fianc', 133), ('spending', 133), ('poverty', 133), ('stronger', 133), ('eyed', 133), ('spike', 133), ('stood', 133), ('kicks', 133), ('comics', 133), ('guest', 133), ('chances', 133), ('corrupt', 133), ('fired', 133), ('homage', 133), ('stiff', 133), ('shall', 133), ('walls', 133), ('stated', 132), ('row', 132), ('cox', 132), ('monkey', 132), ('requires', 132), ('represents', 132), ('miike', 132), ('killings', 132), ('enters', 132), ('medium', 132), ('easier', 132), ('intention', 132), ('ian', 132), ('duke', 132), ('attached', 132), ('cole', 132), ('astaire', 132), ('executive', 132), ('lily', 132), ('performing', 131), ('increasingly', 131), ('exercise', 131), ('strike', 131), ('inevitable', 131), ('occurs', 131), ('associated', 131), ('mafia', 131), ('projects', 131), ('messages', 131), ('disagree', 131), ('dropped', 131), ('gift', 131), ('korean', 131), ('forgive', 131), ('carrey', 131), ('university', 131), ('cardboard', 131), ('lab', 131), ('silence', 130), ('typically', 130), ('acceptable', 130), ('dawson', 130), ('identify', 130), ('resolution', 130), ('kubrick', 130), ('toilet', 130), ('drags', 130), ('luckily', 130), ('nights', 130), ('jesse', 130), ('reynolds', 130), ('contract', 130), ('hire', 130), ('bakshi', 130), ('selling', 129), ('fisher', 129), ('shining', 129), ('thrills', 129), ('brilliance', 129), ('creation', 129), ('sophisticated', 129), ('savage', 129), ('gotta', 129), ('investigation', 129), ('depression', 129), ('davies', 129), ('strictly', 129), ('worker', 129), ('nuclear', 129), ('vague', 129), ('jamie', 128), ('continued', 128), ('afterwards', 128), ('fifteen', 128), ('kidnapped', 128), ('instantly', 128), ('kudos', 128), ('overlooked', 128), ('struck', 128), ('smooth', 128), ('disease', 128), ('joey', 128), ('beings', 128), ('union', 128), ('estate', 128), ('jet', 128), ('satan', 128), ('rex', 128), ('allowing', 128), ('insulting', 128), ('breasts', 128), ('cruise', 128), ('ego', 128), ('useless', 128), ('heat', 128), ('brosnan', 128), ('burn', 127), ('partly', 127), ('wreck', 127), ('spirited', 127), ('importantly', 127), ('pleased', 127), ('presumably', 127), ('press', 127), ('handful', 127), ('pushed', 127), ('persona', 127), ('competition', 127), ('digital', 127), ('meat', 127), ('tremendous', 127), ('grandmother', 127), ('commit', 127), ('creators', 127), ('norman', 127), ('sacrifice', 127), ('evident', 127), ('corpse', 127), ('wondered', 126), ('talked', 126), ('arrested', 126), ('worthless', 126), ('realise', 126), ('photographed', 126), ('menacing', 126), ('relative', 126), ('twin', 126), ('threatening', 126), ('superbly', 126), ('returning', 126), ('fears', 126), ('raped', 126), ('buried', 126), ('ward', 126), ('individuals', 126), ('australia', 126), ('ho', 126), ('ambitious', 126), ('conspiracy', 126), ('aforementioned', 126), ('boxing', 126), ('citizen', 125), ('guide', 125), ('nurse', 125), ('size', 125), ('jumping', 125), ('diamond', 125), ('frustrated', 125), ('flawless', 125), ('spiritual', 125), ('highlights', 125), ('listed', 125), ('doors', 125), ('mitchell', 125), ('regardless', 125), ('abc', 125), ('appalling', 125), ('wonders', 125), ('shy', 125), ('drivel', 125), ('narrator', 125), ('samurai', 125), ('planning', 124), ('characterization', 124), ('string', 124), ('achievement', 124), ('fatal', 124), ('ticket', 124), ('admire', 124), ('distant', 124), ('trap', 124), ('lou', 124), ('spooky', 124), ('cup', 124), ('border', 124), ('beaten', 124), ('curiosity', 124), ('spring', 124), ('bucks', 124), ('mann', 124), ('pleasantly', 124), ('accomplished', 124), ('piano', 124), ('outrageous', 124), ('empire', 124), ('push', 124), ('generous', 124), ('cagney', 124), ('bullets', 124), ('horrors', 124), ('critic', 124), ('rap', 124), ('miserably', 124), ('accused', 123), ('repetitive', 123), ('notes', 123), ('cameron', 123), ('beer', 123), ('splendid', 123), ('rd', 123), ('prevent', 123), ('perry', 123), ('mile', 123), ('butt', 123), ('spoiled', 123), ('temple', 123), ('consequences', 123), ('ironically', 123), ('los', 123), ('attracted', 123), ('francisco', 123), ('ken', 123), ('territory', 123), ('picking', 123), ('cia', 123), ('clues', 123), ('goldberg', 123), ('doo', 123), ('uninspired', 123), ('blows', 122), ('revealing', 122), ('throat', 122), ('opposed', 122), ('melodramatic', 122), ('slap', 122), ('morality', 122), ('farce', 122), ('mate', 122), ('chain', 122), ('blank', 122), ('craig', 122), ('watches', 122), ('psychiatrist', 122), ('motivation', 122), ('alexander', 122), ('turner', 122), ('response', 122), ('slightest', 122), ('souls', 122), ('ellen', 122), ('logical', 122), ('shortly', 122), ('indians', 122), ('dire', 122), ('modesty', 122), ('emily', 122), ('root', 122), ('falk', 122), ('gandhi', 122), ('blob', 122), ('pulling', 121), ('hatred', 121), ('ruth', 121), ('timeless', 121), ('manhattan', 121), ('precious', 121), ('suits', 121), ('installment', 121), ('fx', 121), ('subplot', 121), ('documentaries', 121), ('directorial', 121), ('liberal', 121), ('tall', 121), ('duo', 121), ('lacked', 121), ('subsequent', 121), ('felix', 121), ('jealous', 121), ('titled', 121), ('shoes', 121), ('dracula', 121), ('gray', 121), ('convoluted', 121), ('fay', 121), ('cared', 121), ('wes', 121), ('wells', 121), ('laurel', 121), ('editor', 120), ('intrigued', 120), ('poster', 120), ('marks', 120), ('sole', 120), ('forbidden', 120), ('ignored', 120), ('warrior', 120), ('aimed', 120), ('exaggerated', 120), ('overdone', 120), ('conceived', 120), ('futuristic', 120), ('remaining', 120), ('psychotic', 120), ('progress', 120), ('wolf', 120), ('repeatedly', 119), ('mel', 119), ('restaurant', 119), ('elderly', 119), ('notably', 119), ('parent', 119), ('fancy', 119), ('failing', 119), ('explicit', 119), ('obscure', 119), ('tunes', 119), ('captivating', 119), ('ah', 119), ('drunken', 119), ('disc', 119), ('scientific', 119), ('bleak', 119), ('smoke', 119), ('reasonably', 119), ('superhero', 119), ('minimal', 119), ('paulie', 119), ('bug', 119), ('idiots', 118), ('outcome', 118), ('draws', 118), ('gradually', 118), ('explore', 118), ('verhoeven', 118), ('providing', 118), ('rid', 118), ('pushing', 118), ('loosely', 118), ('dignity', 118), ('scripted', 118), ('soviet', 118), ('shirt', 118), ('reduced', 118), ('discussion', 118), ('argument', 118), ('photographer', 118), ('wicked', 118), ('elaborate', 118), ('kitchen', 118), ('distance', 118), ('timothy', 118), ('misses', 118), ('giallo', 118), ('craven', 118), ('glenn', 118), ('warren', 117), ('sunshine', 117), ('cried', 117), ('reasonable', 117), ('screams', 117), ('worried', 117), ('slave', 117), ('dave', 117), ('translation', 117), ('definite', 117), ('exposed', 117), ('darker', 117), ('freak', 117), ('childish', 117), ('connect', 117), ('sloppy', 117), ('returned', 117), ('hysterical', 117), ('kenneth', 117), ('sticks', 117), ('shadows', 117), ('wannabe', 117), ('intent', 117), ('walker', 117), ('romero', 117), ('carrie', 117), ('annie', 117), ('eve', 117), ('stiller', 117), ('commercials', 116), ('folk', 116), ('panic', 116), ('unbelievably', 116), ('discovery', 116), ('whale', 116), ('imagined', 116), ('contrary', 116), ('purple', 116), ('yesterday', 116), ('areas', 116), ('thick', 116), ('gentle', 116), ('wallace', 116), ('birds', 116), ('threat', 116), ('tortured', 116), ('fever', 116), ('vicious', 116), ('brazil', 116), ('dancers', 116), ('absence', 116), ('load', 116), ('unbearable', 116), ('danes', 116), ('horrid', 116), ('donna', 115), ('reached', 115), ('complain', 115), ('stole', 115), ('broad', 115), ('improved', 115), ('heroic', 115), ('ireland', 115), ('twelve', 115), ('triumph', 115), ('differences', 115), ('eyre', 115), ('matthew', 115), ('concerning', 115), ('extended', 115), ('incident', 115), ('farm', 115), ('choreography', 115), ('landscape', 115), ('karen', 115), ('movements', 115), ('mildred', 115), ('tap', 115), ('prom', 115), ('bathroom', 114), ('secrets', 114), ('existed', 114), ('overrated', 114), ('drawing', 114), ('occurred', 114), ('involvement', 114), ('bone', 114), ('web', 114), ('displays', 114), ('burned', 114), ('bare', 114), ('broadcast', 114), ('kapoor', 114), ('anyways', 114), ('altman', 114), ('li', 114), ('fulci', 114), ('margaret', 114), ('ought', 114), ('cheek', 114), ('styles', 114), ('nazis', 114), ('arrive', 114), ('builds', 114), ('bite', 114), ('daring', 114), ('kirk', 114), ('rambo', 114), ('symbolism', 114), ('contained', 113), ('genres', 113), ('blend', 113), ('newspaper', 113), ('machines', 113), ('affected', 113), ('craft', 113), ('antics', 113), ('ranks', 113), ('adequate', 113), ('currently', 113), ('tommy', 113), ('bird', 113), ('swear', 113), ('resembles', 113), ('holy', 113), ('recognized', 113), ('audio', 113), ('demands', 113), ('hollow', 113), ('population', 113), ('hamilton', 113), ('greek', 113), ('block', 113), ('beatty', 113), ('apes', 113), ('nicholson', 113), ('leg', 112), ('terry', 112), ('popcorn', 112), ('merit', 112), ('receive', 112), ('harder', 112), ('sadness', 112), ('hugh', 112), ('altogether', 112), ('sadistic', 112), ('cliff', 112), ('selfish', 112), ('enjoys', 112), ('threw', 112), ('bell', 112), ('pretend', 112), ('proceedings', 112), ('occur', 112), ('neo', 112), ('dynamic', 112), ('trio', 112), ('website', 112), ('superficial', 112), ('investigate', 112), ('explosion', 112), ('swedish', 112), ('argue', 112), ('journalist', 112), ('ridiculously', 112), ('pseudo', 112), ('seventies', 112), ('robots', 112), ('todd', 112), ('synopsis', 111), ('thrill', 111), ('aging', 111), ('atlantis', 111), ('tame', 111), ('rage', 111), ('lawrence', 111), ('pulp', 111), ('composed', 111), ('beats', 111), ('staged', 111), ('dinosaurs', 111), ('thugs', 111), ('hammer', 111), ('fighter', 111), ('cameras', 111), ('suited', 111), ('leonard', 111), ('foul', 111), ('fonda', 111), ('voight', 111), ('madonna', 111), ('escaped', 110), ('engaged', 110), ('dialogues', 110), ('snake', 110), ('rural', 110), ('comfortable', 110), ('innovative', 110), ('clint', 110), ('prostitute', 110), ('ease', 110), ('conversations', 110), ('juvenile', 110), ('unpleasant', 110), ('mountains', 110), ('clothing', 110), ('cats', 110), ('bin', 110), ('blake', 110), ('gadget', 110), ('vivid', 109), ('lol', 109), ('eccentric', 109), ('intrigue', 109), ('wealth', 109), ('overwhelming', 109), ('warming', 109), ('conventional', 109), ('staying', 109), ('staff', 109), ('orders', 109), ('philosophy', 109), ('coherent', 109), ('versus', 109), ('shine', 109), ('lips', 109), ('murderous', 109), ('carl', 109), ('grab', 109), ('combat', 109), ('offering', 109), ('odds', 109), ('garden', 109), ('explosions', 109), ('centered', 109), ('buddies', 109), ('devoted', 109), ('brady', 109), ('brains', 109), ('kidding', 109), ('lit', 109), ('nearby', 109), ('bullet', 109), ('edie', 109), ('jazz', 109), ('cuba', 109), ('lemmon', 109), ('disturbed', 108), ('mummy', 108), ('react', 108), ('waters', 108), ('groups', 108), ('nightmares', 108), ('detailed', 108), ('producing', 108), ('liking', 108), ('banned', 108), ('hbo', 108), ('cringe', 108), ('cary', 108), ('bang', 108), ('kennedy', 108), ('errors', 108), ('meaningless', 108), ('blowing', 108), ('abilities', 108), ('possessed', 108), ('unintentional', 108), ('lust', 108), ('mickey', 108), ('mistaken', 108), ('deliberately', 108), ('implausible', 108), ('removed', 108), ('rat', 108), ('sport', 108), ('damage', 108), ('palma', 108), ('flop', 108), ('jeffrey', 107), ('possibility', 107), ('olivier', 107), ('masters', 107), ('defeat', 107), ('causing', 107), ('officers', 107), ('distracting', 107), ('daddy', 107), ('resemblance', 107), ('uneven', 107), ('spare', 107), ('ingredients', 107), ('bedroom', 107), ('celluloid', 107), ('clown', 107), ('undoubtedly', 107), ('influenced', 107), ('harvey', 107), ('toys', 107), ('careers', 107), ('subjects', 107), ('relies', 107), ('explaining', 107), ('unwatchable', 107), ('roman', 107), ('ginger', 107), ('florida', 107), ('dating', 107), ('holly', 107), ('official', 106), ('pays', 106), ('succeeded', 106), ('crack', 106), ('classes', 106), ('furthermore', 106), ('explored', 106), ('goodness', 106), ('survival', 106), ('duty', 106), ('scheme', 106), ('catches', 106), ('primary', 106), ('colonel', 106), ('highest', 106), ('focusing', 106), ('aid', 106), ('satisfied', 106), ('occasion', 106), ('politically', 106), ('signs', 106), ('coffee', 106), ('discuss', 106), ('spirits', 106), ('funeral', 106), ('props', 106), ('yellow', 106), ('punk', 106), ('clumsy', 106), ('hart', 106), ('passes', 106), ('awake', 106), ('polanski', 106), ('generic', 105), ('mysteries', 105), ('smaller', 105), ('financial', 105), ('models', 105), ('hal', 105), ('chaos', 105), ('trees', 105), ('sentence', 105), ('linda', 105), ('remarkably', 105), ('wives', 105), ('flies', 105), ('brooklyn', 105), ('tracks', 105), ('hank', 105), ('godzilla', 105), ('ape', 105), ('travels', 105), ('houses', 105), ('sidekick', 105), ('widow', 105), ('decisions', 105), ('rick', 105), ('backdrop', 105), ('maggie', 105), ('secondly', 105), ('winters', 105), ('unfolds', 104), ('desperation', 104), ('impress', 104), ('endings', 104), ('portion', 104), ('enemies', 104), ('measure', 104), ('destiny', 104), ('primarily', 104), ('doomed', 104), ('settle', 104), ('exotic', 104), ('afford', 104), ('companion', 104), ('recorded', 104), ('hates', 104), ('outer', 104), ('surviving', 104), ('beneath', 104), ('consistently', 104), ('dutch', 104), ('glorious', 104), ('lifestyle', 104), ('lyrics', 104), ('ties', 104), ('principal', 104), ('devoid', 104), ('instant', 104), ('streep', 104), ('mill', 104), ('notion', 104), ('offended', 104), ('blatant', 104), ('doll', 104), ('amy', 104), ('enterprise', 104), ('fetched', 103), ('directs', 103), ('motives', 103), ('hints', 103), ('forty', 103), ('ocean', 103), ('represent', 103), ('performer', 103), ('countryside', 103), ('communist', 103), ('revolutionary', 103), ('pan', 103), ('dances', 103), ('terrorist', 103), ('montage', 103), ('rebel', 103), ('cheating', 103), ('et', 103), ('ideal', 103), ('mixture', 103), ('march', 103), ('enormous', 103), ('sh', 103), ('closet', 103), ('dozens', 103), ('homer', 103), ('method', 103), ('shirley', 103), ('ya', 103), ('garbo', 103), ('celebrity', 103), ('hideous', 103), ('circle', 103), ('frustration', 103), ('wrestling', 103), ('diane', 103), ('shelf', 103), ('grinch', 103), ('divorce', 102), ('crush', 102), ('benefit', 102), ('reaches', 102), ('tie', 102), ('judging', 102), ('user', 102), ('traveling', 102), ('avoided', 102), ('buff', 102), ('fond', 102), ('developing', 102), ('stellar', 102), ('winds', 102), ('painted', 102), ('bull', 102), ('disjointed', 102), ('describes', 102), ('relations', 102), ('subtlety', 102), ('bold', 102), ('drops', 102), ('hardcore', 102), ('rank', 102), ('pig', 102), ('urge', 102), ('macy', 102), ('trailers', 102), ('rocket', 102), ('oz', 102), ('immensely', 102), ('surfing', 102), ('griffith', 102), ('topless', 102), ('coach', 102), ('akshay', 102), ('stinker', 102), ('uwe', 102), ('survivors', 101), ('tender', 101), ('seed', 101), ('backgrounds', 101), ('ruthless', 101), ('awe', 101), ('april', 101), ('diana', 101), ('planned', 101), ('saga', 101), ('practice', 101), ('matches', 101), ('emphasis', 101), ('amanda', 101), ('adorable', 101), ('wont', 101), ('outfit', 101), ('blew', 101), ('authority', 101), ('angeles', 101), ('advance', 101), ('soccer', 101), ('cure', 101), ('disappear', 101), ('eighties', 101), ('simplistic', 101), ('niro', 101), ('specifically', 101), ('cinematographer', 101), ('melting', 101), ('hartley', 101), ('senseless', 101), ('pot', 100), ('fix', 100), ('faster', 100), ('menace', 100), ('transformation', 100), ('miserable', 100), ('corruption', 100), ('shaw', 100), ('loads', 100), ('claimed', 100), ('forms', 100), ('commented', 100), ('loyal', 100), ('vast', 100), ('link', 100), ('earned', 100), ('blues', 100), ('solo', 100), ('babe', 100), ('judy', 100), ('peoples', 100), ('splatter', 100), ('lumet', 100), ('unsettling', 99), ('displayed', 99), ('rooms', 99), ('riveting', 99), ('jonathan', 99), ('dedicated', 99), ('disappeared', 99), ('arrogant', 99), ('interaction', 99), ('endure', 99), ('elephant', 99), ('involve', 99), ('philosophical', 99), ('hurts', 99), ('command', 99), ('hook', 99), ('represented', 99), ('khan', 99), ('weakest', 99), ('dinosaur', 99), ('mario', 99), ('limits', 99), ('guessed', 99), ('introduces', 99), ('lasted', 99), ('ears', 99), ('passionate', 99), ('cards', 99), ('chorus', 99), ('honesty', 99), ('racial', 99), ('choreographed', 99), ('berlin', 99), ('sellers', 99), ('tag', 99), ('depressed', 99), ('illogical', 99), ('trashy', 99), ('lena', 99), ('morris', 98), ('sandra', 98), ('moody', 98), ('justify', 98), ('stress', 98), ('realizing', 98), ('severe', 98), ('buffs', 98), ('similarities', 98), ('similarly', 98), ('thoughtful', 98), ('quotes', 98), ('formulaic', 98), ('wore', 98), ('cave', 98), ('disappoint', 98), ('nomination', 98), ('hung', 98), ('safety', 98), ('adams', 98), ('cake', 98), ('isolated', 98), ('possibilities', 98), ('nail', 98), ('grandfather', 98), ('porno', 98), ('stereotype', 98), ('voiced', 98), ('chased', 98), ('abysmal', 98), ('kicked', 98), ('franco', 98), ('scarecrow', 98), ('charlotte', 98), ('wendy', 98), ('domino', 98), ('macarthur', 98), ('hopper', 98), ('monkeys', 98), ('stinks', 97), ('bonus', 97), ('preview', 97), ('del', 97), ('faults', 97), ('treats', 97), ('nervous', 97), ('nostalgic', 97), ('emperor', 97), ('trained', 97), ('scope', 97), ('helicopter', 97), ('blond', 97), ('swimming', 97), ('improve', 97), ('understandable', 97), ('cd', 97), ('education', 97), ('promised', 97), ('inventive', 97), ('concern', 97), ('thru', 97), ('grasp', 97), ('tad', 97), ('finger', 97), ('sounding', 97), ('solely', 97), ('considerable', 97), ('campbell', 97), ('switch', 97), ('myers', 97), ('dalton', 97), ('christy', 97), ('snl', 97), ('report', 96), ('aids', 96), ('lately', 96), ('namely', 96), ('dolls', 96), ('horrifying', 96), ('comparing', 96), ('leo', 96), ('hyde', 96), ('corporate', 96), ('poetic', 96), ('rotten', 96), ('cliche', 96), ('facing', 96), ('dub', 96), ('mayor', 96), ('purchase', 96), ('species', 96), ('laws', 96), ('clock', 96), ('wet', 96), ('consistent', 96), ('tonight', 96), ('roth', 96), ('agrees', 96), ('unhappy', 96), ('bergman', 96), ('orson', 96), ('alert', 96), ('kyle', 96), ('ignorant', 96), ('museum', 96), ('cg', 96), ('chess', 96), ('downhill', 96), ('embarrassment', 96), ('button', 96), ('reaching', 95), ('boot', 95), ('edgar', 95), ('constructed', 95), ('steel', 95), ('plant', 95), ('wished', 95), ('transfer', 95), ('kingdom', 95), ('shake', 95), ('confidence', 95), ('sits', 95), ('photos', 95), ('defend', 95), ('fooled', 95), ('armed', 95), ('simpson', 95), ('motivations', 95), ('taught', 95), ('conservative', 95), ('wizard', 95), ('prize', 95), ('pretending', 95), ('hop', 95), ('waited', 95), ('ruby', 95), ('mall', 95), ('vegas', 95), ('inane', 95), ('blade', 95), ('shelley', 95), ('montana', 95), ('letters', 95), ('amitabh', 95), ('stooges', 95), ('ollie', 95), ('buildings', 94), ('staring', 94), ('useful', 94), ('writes', 94), ('combine', 94), ('behave', 94), ('iron', 94), ('inferior', 94), ('suitable', 94), ('dickens', 94), ('sappy', 94), ('delivering', 94), ('raising', 94), ('bela', 94), ('closest', 94), ('gangsters', 94), ('vengeance', 94), ('cleverly', 94), ('virginia', 94), ('wound', 94), ('miracle', 94), ('humble', 94), ('eager', 94), ('global', 94), ('latin', 94), ('pearl', 94), ('artificial', 94), ('pants', 94), ('paltrow', 94), ('relation', 94), ('ballet', 94), ('carradine', 94), ('destroying', 94), ('connery', 94), ('agents', 94), ('jenny', 94), ('crocodile', 94), ('gundam', 94), ('blunt', 94), ('stevens', 94), ('dixon', 94), ('timon', 94), ('valuable', 93), ('affect', 93), ('lay', 93), ('paranoia', 93), ('reads', 93), ('arrived', 93), ('engage', 93), ('elegant', 93), ('boom', 93), ('alcoholic', 93), ('bands', 93), ('stilted', 93), ('conflicts', 93), ('sirk', 93), ('chest', 93), ('mars', 93), ('convincingly', 93), ('september', 93), ('couples', 93), ('maintain', 93), ('secretly', 93), ('iran', 93), ('square', 93), ('climactic', 93), ('robinson', 93), ('slick', 93), ('bath', 93), ('airport', 93), ('waves', 93), ('scottish', 93), ('airplane', 93), ('balls', 93), ('tiresome', 93), ('scrooge', 93), ('civilization', 93), ('pokemon', 93), ('frankenstein', 92), ('wrapped', 92), ('exploration', 92), ('reflect', 92), ('catching', 92), ('access', 92), ('yelling', 92), ('beliefs', 92), ('christians', 92), ('willis', 92), ('kicking', 92), ('im', 92), ('cheated', 92), ('raymond', 92), ('chicago', 92), ('misery', 92), ('jumped', 92), ('poetry', 92), ('ethan', 92), ('closed', 92), ('nicholas', 92), ('creator', 92), ('lundgren', 92), ('gerard', 92), ('lowest', 92), ('witches', 92), ('vice', 92), ('spock', 92), ('robbery', 92), ('richardson', 92), ('desired', 91), ('guarantee', 91), ('min', 91), ('greedy', 91), ('firstly', 91), ('abusive', 91), ('survived', 91), ('transition', 91), ('spoke', 91), ('centers', 91), ('messed', 91), ('plight', 91), ('vulnerable', 91), ('literature', 91), ('kay', 91), ('nostalgia', 91), ('progresses', 91), ('sue', 91), ('stallone', 91), ('creep', 91), ('remarks', 91), ('spread', 91), ('dust', 91), ('catchy', 91), ('bottle', 91), ('pal', 91), ('potentially', 91), ('construction', 91), ('scores', 91), ('germans', 91), ('simplicity', 91), ('invasion', 91), ('designs', 91), ('advertising', 91), ('francis', 91), ('austen', 91), ('questionable', 91), ('junior', 91), ('taxi', 91), ('richards', 91), ('gabriel', 90), ('careful', 90), ('understated', 90), ('depicts', 90), ('en', 90), ('doom', 90), ('purchased', 90), ('gender', 90), ('demand', 90), ('rubber', 90), ('vaguely', 90), ('homosexual', 90), ('advanced', 90), ('recognition', 90), ('mail', 90), ('june', 90), ('illegal', 90), ('arguably', 90), ('joined', 90), ('alongside', 90), ('complexity', 90), ('jaw', 90), ('hello', 90), ('operation', 90), ('louise', 90), ('amounts', 90), ('advise', 90), ('persons', 90), ('lengthy', 90), ('brutally', 90), ('attitudes', 90), ('restored', 90), ('copies', 90), ('showcase', 90), ('acid', 90), ('intentionally', 90), ('experiments', 90), ('rendition', 90), ('marty', 90), ('bacall', 90), ('eaten', 90), ('hunters', 90), ('frankie', 90), ('wandering', 90), ('inappropriate', 90), ('molly', 89), ('online', 89), ('opinions', 89), ('relatives', 89), ('demented', 89), ('capital', 89), ('phantom', 89), ('resort', 89), ('matched', 89), ('rising', 89), ('floating', 89), ('terrorists', 89), ('mankind', 89), ('parallel', 89), ('newly', 89), ('attorney', 89), ('troops', 89), ('visits', 89), ('likewise', 89), ('bay', 89), ('prisoner', 89), ('patients', 89), ('wisdom', 89), ('twilight', 89), ('prisoners', 89), ('betty', 89), ('illness', 89), ('witnesses', 89), ('incomprehensible', 89), ('justin', 89), ('signed', 89), ('pops', 89), ('intimate', 89), ('neighbors', 89), ('chicks', 89), ('edition', 89), ('unit', 89), ('visible', 89), ('drake', 89), ('ashley', 89), ('damon', 89), ('descent', 89), ('resources', 89), ('slaughter', 89), ('farrell', 89), ('grayson', 89), ('biko', 89), ('worn', 88), ('responsibility', 88), ('solution', 88), ('challenging', 88), ('accompanied', 88), ('ensues', 88), ('tiger', 88), ('assault', 88), ('capturing', 88), ('agreed', 88), ('cities', 88), ('alternate', 88), ('keith', 88), ('proceeds', 88), ('reel', 88), ('fascinated', 88), ('mistress', 88), ('nuts', 88), ('appreciation', 88), ('viewings', 88), ('carell', 88), ('lively', 88), ('pit', 88), ('suspicious', 88), ('witnessed', 88), ('chapter', 88), ('classical', 88), ('dreary', 88), ('losers', 88), ('ridden', 88), ('basketball', 88), ('analysis', 88), ('tomatoes', 88), ('manipulative', 88), ('rabbit', 88), ('barrymore', 88), ('antwone', 88), ('wrap', 87), ('sink', 87), ('excessive', 87), ('arrival', 87), ('masterful', 87), ('smiling', 87), ('mighty', 87), ('legal', 87), ('equivalent', 87), ('widely', 87), ('overacting', 87), ('defined', 87), ('royal', 87), ('subplots', 87), ('stale', 87), ('satisfy', 87), ('parties', 87), ('spider', 87), ('earl', 87), ('jaws', 87), ('feed', 87), ('counter', 87), ('butler', 87), ('rooney', 87), ('othello', 87), ('rats', 87), ('compelled', 87), ('frequent', 87), ('owen', 87), ('belushi', 87), ('property', 87), ('lone', 87), ('incompetent', 87), ('plausible', 87), ('randy', 87), ('alison', 87), ('exceptionally', 86), ('photo', 86), ('seeks', 86), ('despair', 86), ('waitress', 86), ('dropping', 86), ('historically', 86), ('sincere', 86), ('crucial', 86), ('channels', 86), ('priceless', 86), ('warmth', 86), ('tends', 86), ('tooth', 86), ('enthusiasm', 86), ('graham', 86), ('der', 86), ('rukh', 86), ('ear', 86), ('serving', 86), ('overlook', 86), ('calm', 86), ('walsh', 86), ('bargain', 86), ('defense', 86), ('hilariously', 86), ('landscapes', 86), ('domestic', 86), ('julian', 86), ('dressing', 86), ('novak', 86), ('nyc', 86), ('whats', 86), ('rangers', 86), ('greed', 86), ('instinct', 86), ('mundane', 86), ('rocky', 86), ('mtv', 86), ('psychic', 86), ('ninja', 86), ('marion', 86), ('reid', 86), ('iraq', 85), ('survivor', 85), ('poem', 85), ('randomly', 85), ('loaded', 85), ('assassin', 85), ('improvement', 85), ('orange', 85), ('creativity', 85), ('specially', 85), ('imitation', 85), ('heights', 85), ('resident', 85), ('belong', 85), ('polished', 85), ('pamela', 85), ('monk', 85), ('willie', 85), ('pursuit', 85), ('watson', 85), ('mechanical', 85), ('bumbling', 85), ('wishing', 85), ('spain', 85), ('recording', 85), ('prequel', 85), ('masterpieces', 85), ('muslim', 85), ('thompson', 85), ('mentioning', 85), ('orleans', 85), ('ww', 85), ('chooses', 85), ('alfred', 85), ('methods', 85), ('dolph', 85), ('generated', 85), ('pink', 85), ('irrelevant', 85), ('mentions', 85), ('icon', 85), ('opportunities', 85), ('angela', 85), ('cassidy', 85), ('abraham', 85), ('omen', 85), ('israel', 85), ('carla', 85), ('zizek', 85), ('showdown', 84), ('suspend', 84), ('ruins', 84), ('gentleman', 84), ('purposes', 84), ('performs', 84), ('empathy', 84), ('travesty', 84), ('distinct', 84), ('album', 84), ('promises', 84), ('palace', 84), ('wacky', 84), ('introduce', 84), ('troubles', 84), ('gifted', 84), ('hippie', 84), ('wounded', 84), ('alcohol', 84), ('feminist', 84), ('caliber', 84), ('equipment', 84), ('minimum', 84), ('ham', 84), ('simmons', 84), ('meryl', 84), ('phony', 84), ('sneak', 84), ('resist', 84), ('suffice', 84), ('brenda', 84), ('marketing', 84), ('scotland', 84), ('awfully', 84), ('les', 84), ('unreal', 84), ('mon', 84), ('maid', 84), ('nerd', 84), ('borrowed', 84), ('household', 84), ('elm', 84), ('map', 84), ('nephew', 84), ('tribe', 84), ('punishment', 84), ('whoopi', 84), ('sabrina', 84), ('cannibal', 84), ('damme', 84), ('fido', 84), ('petty', 83), ('contest', 83), ('masses', 83), ('respected', 83), ('unaware', 83), ('moronic', 83), ('stargate', 83), ('dana', 83), ('fury', 83), ('inducing', 83), ('mm', 83), ('expressed', 83), ('fuller', 83), ('activities', 83), ('unseen', 83), ('educational', 83), ('stretched', 83), ('quit', 83), ('quinn', 83), ('popularity', 83), ('testament', 83), ('businessman', 83), ('maniac', 83), ('receives', 83), ('dimension', 83), ('absent', 83), ('attend', 83), ('furious', 83), ('kurosawa', 83), ('eastern', 83), ('definition', 83), ('kissing', 83), ('trail', 83), ('clip', 83), ('assigned', 83), ('eugene', 83), ('peters', 83), ('unoriginal', 83), ('josh', 83), ('dud', 83), ('swim', 83), ('crystal', 83), ('sixties', 83), ('ramones', 83), ('spacey', 83), ('rolled', 83), ('mclaglen', 83), ('deaf', 83), ('darren', 83), ('greg', 83), ('championship', 83), ('bud', 83), ('ustinov', 83), ('soderbergh', 83), ('miyazaki', 83), ('teaching', 82), ('sissy', 82), ('underlying', 82), ('stunned', 82), ('composer', 82), ('hopeless', 82), ('biography', 82), ('wholly', 82), ('shed', 82), ('deceased', 82), ('tarantino', 82), ('resulting', 82), ('inevitably', 82), ('distribution', 82), ('roots', 82), ('ross', 82), ('retired', 82), ('warriors', 82), ('depicting', 82), ('interests', 82), ('rave', 82), ('tech', 82), ('package', 82), ('fed', 82), ('doubts', 82), ('unpredictable', 82), ('buffalo', 82), ('austin', 82), ('crawford', 82), ('greatness', 82), ('exposure', 82), ('firm', 82), ('nicole', 82), ('assumed', 82), ('pin', 82), ('laughably', 82), ('deniro', 82), ('dee', 82), ('integrity', 82), ('valley', 82), ('nonsensical', 82), ('correctly', 82), ('edgy', 82), ('nathan', 82), ('antonioni', 82), ('yard', 82), ('sid', 82), ('pierce', 82), ('din', 82), ('merits', 81), ('reflection', 81), ('confess', 81), ('metaphor', 81), ('wang', 81), ('supported', 81), ('brutality', 81), ('uplifting', 81), ('romp', 81), ('puppet', 81), ('harm', 81), ('peak', 81), ('accuracy', 81), ('buster', 81), ('suggested', 81), ('fought', 81), ('strangers', 81), ('shanghai', 81), ('trademark', 81), ('twins', 81), ('dreck', 81), ('alec', 81), ('landing', 81), ('compassion', 81), ('aim', 81), ('directions', 81), ('leon', 81), ('patience', 81), ('expedition', 81), ('joel', 81), ('murray', 81), ('pete', 80), ('files', 80), ('unfair', 80), ('stuart', 80), ('pressure', 80), ('coast', 80), ('conditions', 80), ('loyalty', 80), ('significance', 80), ('legacy', 80), ('tank', 80), ('immediate', 80), ('ambiguous', 80), ('woo', 80), ('malone', 80), ('preston', 80), ('da', 80), ('seldom', 80), ('slice', 80), ('resemble', 80), ('grabs', 80), ('generations', 80), ('comfort', 80), ('shaky', 80), ('reader', 80), ('technicolor', 80), ('phil', 80), ('checked', 80), ('femme', 80), ('adaptations', 80), ('invented', 80), ('glasses', 80), ('victory', 80), ('passable', 80), ('exchange', 80), ('claus', 80), ('marshall', 80), ('companies', 80), ('rita', 80), ('chicken', 80), ('indulgent', 80), ('wilderness', 80), ('valentine', 80), ('baldwin', 80), ('kumar', 80), ('robbins', 80), ('millionaire', 79), ('singers', 79), ('subjected', 79), ('husbands', 79), ('astonishing', 79), ('ordered', 79), ('demise', 79), ('masks', 79), ('tacky', 79), ('inability', 79), ('lackluster', 79), ('gregory', 79), ('unexpectedly', 79), ('examination', 79), ('blast', 79), ('spark', 79), ('disliked', 79), ('newman', 79), ('tube', 79), ('downey', 79), ('conscious', 79), ('prey', 79), ('er', 79), ('crazed', 79), ('ships', 79), ('experimental', 79), ('senses', 79), ('milk', 79), ('andre', 79), ('respectively', 79), ('rises', 79), ('grief', 79), ('christianity', 79), ('fields', 79), ('billed', 79), ('hawke', 79), ('vulgar', 79), ('frustrating', 79), ('stack', 79), ('cracking', 79), ('logan', 79), ('confrontation', 79), ('alicia', 79), ('russia', 79), ('wretched', 79), ('vance', 79), ('boyle', 79), ('objective', 79), ('marc', 79), ('kansas', 79), ('palance', 79), ('raines', 79), ('rates', 78), ('foxx', 78), ('basinger', 78), ('replace', 78), ('refused', 78), ('females', 78), ('parade', 78), ('alternative', 78), ('poison', 78), ('infected', 78), ('stumbled', 78), ('difficulties', 78)]\n"
     ]
    }
   ],
   "source": [
    "def get_top_unigrams(corpus, n, unk_cutoff = 5):\n",
    "    \"\"\"\n",
    "    Retourne les  𝑛  unigrammes les plus fréquents et les affiche\n",
    "    :param corpus: list(list(str)), un corpus tokenizé\n",
    "    :param n: int, nombre d'unigrammes à afficher\n",
    "    :unk_cutoff: int, le seuil au-dessous duquel un mot est considéré comme inconnu et remplacé par <UNK>\n",
    "    :return: list(tuple(str, int)), liste des top unigrams avec leur fréquence\n",
    "    \"\"\"\n",
    "    ngrams, words = padded_everygram_pipeline(1, corpus)\n",
    "    vocab = Vocabulary(words, unk_cutoff=unk_cutoff)\n",
    "    most_commun = vocab.counts.most_common(n)\n",
    "    print(most_commun)\n",
    "    return [unigram[0] for unigram in most_commun]\n",
    "\n",
    "most_commun_unigrams = get_top_unigrams(X_train,10)\n",
    "top_unigrams = get_top_unigrams(X_train,5000)"
   ]
  },
  {
   "cell_type": "code",
   "execution_count": 6,
   "metadata": {},
   "outputs": [],
   "source": [
    "import numpy as np\n",
    "from tqdm import trange"
   ]
  },
  {
   "cell_type": "code",
   "execution_count": null,
   "metadata": {
    "colab": {},
    "colab_type": "code",
    "id": "AY67a3m4NoWm"
   },
   "outputs": [],
   "source": [
    "def build_dw_matrix(X, top_unigrams):\n",
    "    \"\"\"\n",
    "    Créé la matrice de co-occurrence document x mot\n",
    "    :param X: list(list(str)), corpus à preprocess\n",
    "    :param top_unigrams: list(str), top unigrams de train\n",
    "    :return: list(list(int)), la matrice de co-occurrences\n",
    "    \"\"\"\n",
    "    dico_top_unigrams = {}\n",
    "    \n",
    "    matrix_cooccurrence = np.zeros((len(X), len(top_unigrams)))\n",
    "    for i in range(len(top_unigrams)):\n",
    "        dico_top_unigrams[top_unigrams[i]] = i\n",
    "    for k in range(len(X)):\n",
    "        for i in range(len(X[k])):\n",
    "            if X[k][i] in dico_top_unigrams:\n",
    "                matrix_cooccurrence[k][dico_top_unigrams[X[k][i]]]+=1\n",
    "                \n",
    "    return matrix_cooccurrence\n",
    "\n",
    "dw_matrix_train = build_dw_matrix(X_train, top_unigrams)\n",
    "dw_matrix_test = build_dw_matrix(X_test, top_unigrams)"
   ]
  },
  {
   "cell_type": "code",
   "execution_count": 9,
   "metadata": {
    "colab": {},
    "colab_type": "code",
    "id": "PHsxp3DNNq1F",
    "scrolled": true
   },
   "outputs": [
    {
     "name": "stderr",
     "output_type": "stream",
     "text": [
      "C:\\Users\\Portable\\Anaconda3\\lib\\site-packages\\ipykernel_launcher.py:9: RuntimeWarning: divide by zero encountered in true_divide\n",
      "  if __name__ == '__main__':\n",
      "C:\\Users\\Portable\\Anaconda3\\lib\\site-packages\\ipykernel_launcher.py:12: RuntimeWarning: invalid value encountered in multiply\n",
      "  if sys.path[0] == '':\n"
     ]
    }
   ],
   "source": [
    "def calculate_TFIDF(X):\n",
    "    \"\"\"\n",
    "    Pondération de la matrice de co-occurrence documents x mots\n",
    "    :param X: list(list(int)), matrice de co-occurrence à pondérer\n",
    "    :return: list(list(int)), matrice de co-occurrence pondéré selon la méthode TF-IDF\n",
    "    \"\"\"\n",
    "    m, n = X.shape\n",
    "    freqs= np.count_nonzero(X, axis=0)\n",
    "    idf = np.log(m/freqs)\n",
    "    tf = X / X.sum(axis=1, keepdims=True)\n",
    "\n",
    "    return tf*idf\n",
    "\n",
    "tfidf_train = calculate_TFIDF(dw_matrix_train)\n",
    "tfidf_test = calculate_TFIDF(dw_matrix_test)"
   ]
  },
  {
   "cell_type": "markdown",
   "metadata": {
    "colab_type": "text",
    "id": "TYkbaoOuIG4x"
   },
   "source": [
    "Dans la suite, vous allez entraîner deux modèles neuronaux : un perceptron multi-couche (MLP pour *multi-layer perceptron*), un réseau récurrent LSTM bi-directionnel. Pour cela, vous devrez utiliser la librairie [Keras](https://keras.io/).\n",
    "\n",
    "N'hésitez pas à expérimenter différents hyper-paramètres pour obtenir le meilleur résultat possible sur au moins un de vos réseaux(nombre de couches, dimension des couches, etc.). Quelques pistes:\n",
    "\n",
    "- optimisation des hyper-paramètres avec validation croisée (tous modèles)\n",
    "\n",
    "- réduction de la dimension avec une LSA (MLP)\n",
    "\n",
    "- ajout de couches/augmentation de la dimension/dropout ou autres changements d'architecture (MLP ou LSTM)\n",
    "\n",
    "- pré-traitement différent (tous modèles)\n",
    "\n",
    "\n",
    "<mark>Il est **fortement conseillé** d'utiliser une machine avec GPU</mark> pour entraîner ces modèles neuronaux. Vous pouvez utiliser les machines du labo L-4818 ou faire tourner votre notebook sur [Google Colab](https://colab.research.google.com) (gratuit)."
   ]
  },
  {
   "cell_type": "markdown",
   "metadata": {
    "colab_type": "text",
    "id": "bAqdPwRTIG4y"
   },
   "source": [
    "### 2. Multi-layer Perceptron\n",
    "\n",
    "**a)** Ici, on vous demande d'entraîner un perceptron multi-couches sur la matrice TF-IDF. Avant l'entraînement, affichez la structure du modèle avec `model.summary()`. Précisez la structure du réseau de neurones (taille et nombre de couches) et les paramètres d'entraînement (optimiseur, nombre d'époques, etc.)."
   ]
  },
  {
   "cell_type": "code",
   "execution_count": 29,
   "metadata": {
    "colab": {
     "base_uri": "https://localhost:8080/",
     "height": 213
    },
    "colab_type": "code",
    "id": "4knmGx-7LOuh",
    "outputId": "a8e781a6-a9d6-4bf1-a365-15ff9b4fdcaf"
   },
   "outputs": [
    {
     "data": {
      "text/plain": [
       "[]"
      ]
     },
     "execution_count": 29,
     "metadata": {},
     "output_type": "execute_result"
    }
   ],
   "source": [
    "import numpy as np\n",
    "from keras.models import Sequential\n",
    "from keras.layers import Dense, Dropout\n",
    "\n",
    "from keras import backend as K\n",
    "K.tensorflow_backend._get_available_gpus()"
   ]
  },
  {
   "cell_type": "code",
   "execution_count": 11,
   "metadata": {
    "colab": {},
    "colab_type": "code",
    "id": "U6WBZlKBKAbm"
   },
   "outputs": [],
   "source": [
    "input_size = len(top_unigrams)\n",
    "output_size = 1\n",
    "hidden_size_fc1 = 256\n",
    "hidden_size_fc2 = 256\n",
    "use_dropout = True\n",
    "fc_dropout = 0.15\n",
    "\n",
    "nb_epochs = 5\n",
    "batch_size = 64"
   ]
  },
  {
   "cell_type": "code",
   "execution_count": 12,
   "metadata": {
    "colab": {
     "base_uri": "https://localhost:8080/",
     "height": 255
    },
    "colab_type": "code",
    "id": "xntNd5PhIG4z",
    "outputId": "17e44a78-6d75-488a-9f5a-1bc24ae6c845"
   },
   "outputs": [],
   "source": [
    "classifier = Sequential()\n",
    "classifier.add(Dense(units = hidden_size_fc1, activation = 'relu', input_dim = input_size))\n",
    "if use_dropout: classifier.add(Dropout(rate=fc_dropout))\n",
    "classifier.add(Dense(units = hidden_size_fc2, activation = 'relu'))\n",
    "if use_dropout: classifier.add(Dropout(rate=fc_dropout))\n",
    "classifier.add(Dense(units = output_size, activation = 'sigmoid'))\n",
    "classifier.compile(loss='binary_crossentropy', optimizer='adam', metrics=['accuracy'])"
   ]
  },
  {
   "cell_type": "code",
   "execution_count": 13,
   "metadata": {
    "colab": {
     "base_uri": "https://localhost:8080/",
     "height": 340
    },
    "colab_type": "code",
    "id": "XczRWajxNNAr",
    "outputId": "b7a4d3a3-1591-46ad-dda1-c8d02121c2e6"
   },
   "outputs": [
    {
     "name": "stdout",
     "output_type": "stream",
     "text": [
      "Model: \"sequential_1\"\n",
      "_________________________________________________________________\n",
      "Layer (type)                 Output Shape              Param #   \n",
      "=================================================================\n",
      "dense_1 (Dense)              (None, 256)               1280256   \n",
      "_________________________________________________________________\n",
      "dropout_1 (Dropout)          (None, 256)               0         \n",
      "_________________________________________________________________\n",
      "dense_2 (Dense)              (None, 256)               65792     \n",
      "_________________________________________________________________\n",
      "dropout_2 (Dropout)          (None, 256)               0         \n",
      "_________________________________________________________________\n",
      "dense_3 (Dense)              (None, 1)                 257       \n",
      "=================================================================\n",
      "Total params: 1,346,305\n",
      "Trainable params: 1,346,305\n",
      "Non-trainable params: 0\n",
      "_________________________________________________________________\n",
      "None\n"
     ]
    }
   ],
   "source": [
    "print(classifier.summary())"
   ]
  },
  {
   "cell_type": "code",
   "execution_count": 31,
   "metadata": {},
   "outputs": [],
   "source": [
    "y_train = (np.array(y_train)=='pos').astype(int)"
   ]
  },
  {
   "cell_type": "code",
   "execution_count": 15,
   "metadata": {
    "colab": {
     "base_uri": "https://localhost:8080/",
     "height": 163
    },
    "colab_type": "code",
    "id": "NyOM8rLKLwbj",
    "outputId": "1ab5c30f-fad9-40ec-c7a7-365fc0a90452"
   },
   "outputs": [
    {
     "name": "stdout",
     "output_type": "stream",
     "text": [
      "Train on 20000 samples, validate on 5000 samples\n",
      "Epoch 1/5\n",
      " - 31s - loss: 0.3662 - accuracy: 0.8303 - val_loss: 0.4637 - val_accuracy: 0.8022\n",
      "Epoch 2/5\n",
      " - 13s - loss: 0.2046 - accuracy: 0.9212 - val_loss: 0.4839 - val_accuracy: 0.8110\n",
      "Epoch 3/5\n",
      " - 12s - loss: 0.1437 - accuracy: 0.9477 - val_loss: 0.4227 - val_accuracy: 0.8534\n",
      "Epoch 4/5\n",
      " - 15s - loss: 0.0761 - accuracy: 0.9758 - val_loss: 0.6474 - val_accuracy: 0.8356\n",
      "Epoch 5/5\n",
      " - 17s - loss: 0.0270 - accuracy: 0.9925 - val_loss: 0.7710 - val_accuracy: 0.8320\n"
     ]
    }
   ],
   "source": [
    "h = classifier.fit(tfidf_train, y_train, epochs=nb_epochs, batch_size=batch_size, validation_split = 0.2, verbose=2)"
   ]
  },
  {
   "cell_type": "code",
   "execution_count": 9,
   "metadata": {},
   "outputs": [
    {
     "ename": "NameError",
     "evalue": "name 'h' is not defined",
     "output_type": "error",
     "traceback": [
      "\u001b[1;31m---------------------------------------------------------------------------\u001b[0m",
      "\u001b[1;31mNameError\u001b[0m                                 Traceback (most recent call last)",
      "\u001b[1;32m<ipython-input-9-c14296e34571>\u001b[0m in \u001b[0;36m<module>\u001b[1;34m()\u001b[0m\n\u001b[0;32m      1\u001b[0m \u001b[1;32mimport\u001b[0m \u001b[0mmatplotlib\u001b[0m\u001b[1;33m.\u001b[0m\u001b[0mpyplot\u001b[0m \u001b[1;32mas\u001b[0m \u001b[0mplt\u001b[0m\u001b[1;33m\u001b[0m\u001b[0m\n\u001b[0;32m      2\u001b[0m \u001b[1;33m\u001b[0m\u001b[0m\n\u001b[1;32m----> 3\u001b[1;33m \u001b[0mplt\u001b[0m\u001b[1;33m.\u001b[0m\u001b[0mplot\u001b[0m\u001b[1;33m(\u001b[0m\u001b[0mh\u001b[0m\u001b[1;33m.\u001b[0m\u001b[0mhistory\u001b[0m\u001b[1;33m[\u001b[0m\u001b[1;34m'loss'\u001b[0m\u001b[1;33m]\u001b[0m\u001b[1;33m,\u001b[0m \u001b[0mlabel\u001b[0m\u001b[1;33m=\u001b[0m\u001b[1;34m\"Training set\"\u001b[0m\u001b[1;33m)\u001b[0m\u001b[1;33m\u001b[0m\u001b[0m\n\u001b[0m\u001b[0;32m      4\u001b[0m \u001b[0mplt\u001b[0m\u001b[1;33m.\u001b[0m\u001b[0mplot\u001b[0m\u001b[1;33m(\u001b[0m\u001b[0mh\u001b[0m\u001b[1;33m.\u001b[0m\u001b[0mhistory\u001b[0m\u001b[1;33m[\u001b[0m\u001b[1;34m'val_loss'\u001b[0m\u001b[1;33m]\u001b[0m\u001b[1;33m,\u001b[0m\u001b[0mlabel\u001b[0m\u001b[1;33m=\u001b[0m\u001b[1;34m\"Validation set\"\u001b[0m\u001b[1;33m)\u001b[0m\u001b[1;33m\u001b[0m\u001b[0m\n\u001b[0;32m      5\u001b[0m \u001b[0mplt\u001b[0m\u001b[1;33m.\u001b[0m\u001b[0mlegend\u001b[0m\u001b[1;33m(\u001b[0m\u001b[1;33m)\u001b[0m\u001b[1;33m\u001b[0m\u001b[0m\n",
      "\u001b[1;31mNameError\u001b[0m: name 'h' is not defined"
     ]
    }
   ],
   "source": [
    "import matplotlib.pyplot as plt\n",
    "\n",
    "plt.plot(h.history['loss'], label=\"Training set\")\n",
    "plt.plot(h.history['val_loss'],label=\"Validation set\")\n",
    "plt.legend()\n",
    "plt.show()"
   ]
  },
  {
   "cell_type": "markdown",
   "metadata": {
    "colab_type": "text",
    "id": "8j6ApCAhIG40"
   },
   "source": [
    "### 3. Bi-directional LSTM\n",
    "\n",
    "**b)** Toujours avec Keras, entraînez un modèle bi-LSTM sur le corpus d'entraînement. Comme précédemment, affichez la structure du réseau et indiquez les paramètres utiles.\n",
    "\n",
    "*Note :* si votre machine supporte CUDA, vous pouvez utiliser `keras.layers.CuDNNLSTM` au lieu de `keras.layers.LSTM` pour des gains de performance significatifs. Sur Google Colab, les environnements avec GPU supportent CUDA."
   ]
  },
  {
   "cell_type": "code",
   "execution_count": 7,
   "metadata": {},
   "outputs": [
    {
     "name": "stderr",
     "output_type": "stream",
     "text": [
      "C:\\Users\\Portable\\Anaconda3\\lib\\site-packages\\h5py\\__init__.py:36: FutureWarning: Conversion of the second argument of issubdtype from `float` to `np.floating` is deprecated. In future, it will be treated as `np.float64 == np.dtype(float).type`.\n",
      "  from ._conv import register_converters as _register_converters\n",
      "Using TensorFlow backend.\n"
     ]
    }
   ],
   "source": [
    "from keras.utils import to_categorical\n",
    "\n",
    "def encode_corpus(X, top_unigrams):\n",
    "    encoded_X = []\n",
    "    vocab = {word: i+1 for i, word in enumerate(top_unigrams)}\n",
    "    for sentence in X:\n",
    "        encoded_X.append([vocab[word] for word in sentence if word in vocab])   \n",
    "    return encoded_X\n",
    "\n",
    "encoded_X_train = encode_corpus(X_train, top_unigrams)\n",
    "encoded_X_test = encode_corpus(X_test, top_unigrams)"
   ]
  },
  {
   "cell_type": "code",
   "execution_count": 10,
   "metadata": {},
   "outputs": [
    {
     "name": "stderr",
     "output_type": "stream",
     "text": [
      "C:\\Users\\Portable\\Anaconda3\\lib\\site-packages\\scipy\\stats\\stats.py:1706: FutureWarning: Using a non-tuple sequence for multidimensional indexing is deprecated; use `arr[tuple(seq)]` instead of `arr[seq]`. In the future this will be interpreted as an array index, `arr[np.array(seq)]`, which will result either in an error or a different result.\n",
      "  return np.add.reduce(sorted[indexer] * weights, axis=axis) / sumval\n",
      "C:\\Users\\Portable\\Anaconda3\\lib\\site-packages\\matplotlib\\axes\\_axes.py:6462: UserWarning: The 'normed' kwarg is deprecated, and has been replaced by the 'density' kwarg.\n",
      "  warnings.warn(\"The 'normed' kwarg is deprecated, and has been \"\n"
     ]
    },
    {
     "data": {
      "image/png": "[encoded data removed]",
      "text/plain": [
       "<Figure size 432x288 with 1 Axes>"
      ]
     },
     "metadata": {
      "needs_background": "light"
     },
     "output_type": "display_data"
    }
   ],
   "source": [
    "import seaborn as sns\n",
    "sns.distplot([len(seq) for seq in encoded_X_train])\n",
    "plt.title('Distribution des longueurs des phrases')\n",
    "plt.show()"
   ]
  },
  {
   "cell_type": "markdown",
   "metadata": {},
   "source": [
    "On doit d'abord définir la longueur des phrases que nous allons donner à notre réseau bi-LSTM."
   ]
  },
  {
   "cell_type": "code",
   "execution_count": 11,
   "metadata": {},
   "outputs": [
    {
     "name": "stdout",
     "output_type": "stream",
     "text": [
      "En choisissant seq_len= 250 , 94 % des phrases ne seront pas coupés.\n"
     ]
    }
   ],
   "source": [
    "seq_len = 250\n",
    "v = int(np.sum(np.array([len(seq) for seq in encoded_X_train])<seq_len)/len(encoded_X_train)*100)\n",
    "print('En choisissant seq_len=',seq_len,',', v,'% des phrases ne seront pas coupés.')"
   ]
  },
  {
   "cell_type": "code",
   "execution_count": 25,
   "metadata": {},
   "outputs": [],
   "source": [
    "from keras.preprocessing.sequence import pad_sequences\n",
    "\n",
    "def preprocess(encoded_X, seq_len, top_unigrams):\n",
    "    return to_categorical(pad_sequences(encoded_X,seq_len), num_classes = len(top_unigrams)+1)\n",
    "\n",
    "preprocessed_X_train = preprocess(encoded_X_train, seq_len, top_unigrams)\n",
    "preprocessed_X_test = preprocess(encoded_X_test, seq_len, top_unigrams)"
   ]
  },
  {
   "cell_type": "code",
   "execution_count": 26,
   "metadata": {
    "colab": {},
    "colab_type": "code",
    "id": "Eo695rqCP7Kp"
   },
   "outputs": [],
   "source": [
    "from keras.layers import Dense, CuDNNLSTM, Dropout, Bidirectional, LSTM"
   ]
  },
  {
   "cell_type": "code",
   "execution_count": 33,
   "metadata": {
    "colab": {},
    "colab_type": "code",
    "id": "yTaU2245P7Nw"
   },
   "outputs": [],
   "source": [
    "hidden_size_lstm1 = 128\n",
    "input_shape = (seq_len, len(top_unigrams)+1)\n",
    "output_size = 1\n",
    "use_dropout = True\n",
    "lstm_dropout = 0.15\n",
    "nb_epochs = 2\n",
    "batch_size = 128"
   ]
  },
  {
   "cell_type": "code",
   "execution_count": 34,
   "metadata": {
    "colab": {
     "base_uri": "https://localhost:8080/",
     "height": 272
    },
    "colab_type": "code",
    "id": "Rcj9HcKKIG41",
    "outputId": "3a82c4fd-339d-43b4-c013-ef25cd52d548"
   },
   "outputs": [
    {
     "name": "stdout",
     "output_type": "stream",
     "text": [
      "Model: \"sequential_2\"\n",
      "_________________________________________________________________\n",
      "Layer (type)                 Output Shape              Param #   \n",
      "=================================================================\n",
      "bidirectional_3 (Bidirection (None, 250, 256)          5253120   \n",
      "_________________________________________________________________\n",
      "dropout_2 (Dropout)          (None, 250, 256)          0         \n",
      "_________________________________________________________________\n",
      "bidirectional_4 (Bidirection (None, 1)                 2064      \n",
      "=================================================================\n",
      "Total params: 5,255,184\n",
      "Trainable params: 5,255,184\n",
      "Non-trainable params: 0\n",
      "_________________________________________________________________\n",
      "None\n"
     ]
    }
   ],
   "source": [
    "model = Sequential()\n",
    "model.add(Bidirectional(LSTM(hidden_size_lstm1, return_sequences=True), input_shape = input_shape))\n",
    "if use_dropout: model.add(Dropout(rate = lstm_dropout))\n",
    "model.add(Bidirectional(LSTM(output_size), merge_mode='ave'))\n",
    "model.compile(loss='binary_crossentropy', optimizer='adam', metrics=['acc'])\n",
    "print(model.summary())"
   ]
  },
  {
   "cell_type": "code",
   "execution_count": 35,
   "metadata": {
    "colab": {},
    "colab_type": "code",
    "id": "FoSd9_x0Rgy0"
   },
   "outputs": [
    {
     "name": "stdout",
     "output_type": "stream",
     "text": [
      "Train on 2700 samples, validate on 300 samples\n",
      "Epoch 1/2\n",
      "2700/2700 [==============================] - ETA: 21:20 - loss: 13.3978 - acc: 0.0000e+0 - ETA: 13:54 - loss: 7.9949 - acc: 0.0000e+0 - ETA: 10:47 - loss: 6.0068 - acc: 0.0000e+ - ETA: 9:10 - loss: 4.9421 - acc: 0.0000e+00 - ETA: 8:00 - loss: 4.2632 - acc: 0.0000e+0 - ETA: 7:13 - loss: 3.7880 - acc: 0.0000e+0 - ETA: 6:34 - loss: 3.4348 - acc: 0.0000e+0 - ETA: 6:01 - loss: 3.1599 - acc: 0.0000e+0 - ETA: 5:27 - loss: 2.9387 - acc: 0.0000e+0 - ETA: 4:55 - loss: 2.7545 - acc: 0.0000e+0 - ETA: 4:23 - loss: 2.5988 - acc: 0.0000e+0 - ETA: 3:53 - loss: 2.4642 - acc: 0.0000e+0 - ETA: 3:25 - loss: 2.3427 - acc: 0.0000e+0 - ETA: 2:57 - loss: 2.2317 - acc: 0.0000e+0 - ETA: 2:31 - loss: 2.1299 - acc: 0.0312    - ETA: 2:05 - loss: 2.0361 - acc: 0.086 - ETA: 1:40 - loss: 1.9481 - acc: 0.137 - ETA: 1:15 - loss: 1.8641 - acc: 0.185 - ETA: 50s - loss: 1.7842 - acc: 0.228 - ETA: 26s - loss: 1.7086 - acc: 0.26 - ETA: 2s - loss: 1.6376 - acc: 0.3021 - 564s 209ms/step - loss: 1.6310 - acc: 0.3052 - val_loss: 0.1317 - val_acc: 1.0000\n",
      "Epoch 2/2\n",
      "2700/2700 [==============================] - ETA: 8:12 - loss: 0.1362 - acc: 1.000 - ETA: 7:10 - loss: 0.1213 - acc: 1.000 - ETA: 6:40 - loss: 0.1083 - acc: 1.000 - ETA: 6:19 - loss: 0.0976 - acc: 1.000 - ETA: 5:55 - loss: 0.0883 - acc: 1.000 - ETA: 5:32 - loss: 0.0803 - acc: 1.000 - ETA: 5:10 - loss: 0.0734 - acc: 1.000 - ETA: 4:47 - loss: 0.0674 - acc: 1.000 - ETA: 4:25 - loss: 0.0622 - acc: 1.000 - ETA: 4:04 - loss: 0.0576 - acc: 1.000 - ETA: 3:41 - loss: 0.0536 - acc: 1.000 - ETA: 3:21 - loss: 0.0501 - acc: 1.000 - ETA: 2:59 - loss: 0.0470 - acc: 1.000 - ETA: 2:38 - loss: 0.0442 - acc: 1.000 - ETA: 2:18 - loss: 0.0417 - acc: 1.000 - ETA: 1:56 - loss: 0.0395 - acc: 1.000 - ETA: 1:34 - loss: 0.0375 - acc: 1.000 - ETA: 1:11 - loss: 0.0357 - acc: 1.000 - ETA: 48s - loss: 0.0341 - acc: 1.000 - ETA: 25s - loss: 0.0326 - acc: 1.00 - ETA: 2s - loss: 0.0312 - acc: 1.0000 - 519s 192ms/step - loss: 0.0311 - acc: 1.0000 - val_loss: 0.0031 - val_acc: 1.0000\n"
     ]
    },
    {
     "data": {
      "text/plain": [
       "<keras.callbacks.callbacks.History at 0x1778db92d30>"
      ]
     },
     "execution_count": 35,
     "metadata": {},
     "output_type": "execute_result"
    }
   ],
   "source": [
    "model.fit(preprocessed_X_train, y_train, epochs=nb_epochs, batch_size=batch_size, validation_split = 0.1)"
   ]
  },
  {
   "cell_type": "markdown",
   "metadata": {
    "colab_type": "text",
    "id": "-wVEpoY8IG42"
   },
   "source": [
    "**c) Word Embeddings**\n",
    "\n",
    "Pour améliorer le modèle précédent, on va utiliser des *word embeddings* (ou plongements vectoriels) pré-entraînés. \n",
    "\n",
    "On utilisera un modèle Skip-gram de dimension $d=300$ entraîné sur English Wikipedia, disponible à l'adresse [http://vectors.nlpl.eu/explore/embeddings/en/models/](http://vectors.nlpl.eu/explore/embeddings/en/models/). Dans cette archive, vous trouverez les embeddings dans un fichier `.txt` tel que \n",
    "- la première ligne du fichier indique le nombre de mots dans le vocabulaire et la dimension des embeddings\n",
    "- chacune des lignes suivantes est composée d'un mot_étiquette grammaticale suivi des 300 coordonnées de son *embedding*, le tout séparé par des espaces. \n",
    "\n",
    "Ainsi, les premières lignes de ce fichier sont :\n",
    "```\n",
    "296630 300\n",
    "also_ADV -0.010121 -0.045202 -0.065609 ... -0.065423\n",
    "one_NUM -0.060427 0.005032 -0.076370 ... -0.107769\n",
    "first_ADJ 0.005799 0.024848 0.018902 ...  -0.097193\n",
    "...\n",
    "```\n",
    "\n",
    "Les étiquettes `_ADV`, `_NUM`, `_ADJ`, etc. indiquent l'étiquette grammaticale du mot et peuvent être supprimées pour ce TP.\n",
    "\n",
    "*Note :* vous pouvez utiliser le snippet suivant pour télécharger et dézipper automatiquement les embeddings (pratique si vous utilisez une machine distante comme Google Colab) :\n",
    "```python\n",
    "import requests\n",
    "import io\n",
    "from zipfile import ZipFile\n",
    "\n",
    "res = requests.get(\"http://link/to/archive.zip\")\n",
    "with ZipFile(io.BytesIO(res.content)) as z:\n",
    "  z.extractall(\"extract/to/dir/\")\n",
    "```\n",
    "\n",
    "\n",
    "Implémentez un modèle bi-LSTM qui utilisent ces *embeddings* pour représenter les mots d'une phrase. Vous pourrez utiliser le layer [Embedding](https://keras.io/layers/embeddings/) de Keras."
   ]
  },
  {
   "cell_type": "code",
   "execution_count": 39,
   "metadata": {
    "colab": {},
    "colab_type": "code",
    "id": "EzjMk2mGIG43"
   },
   "outputs": [],
   "source": [
    "import requests\n",
    "import io\n",
    "from zipfile import ZipFile\n",
    "\n",
    "res = requests.get(\"http://vectors.nlpl.eu/repository/11/3.zip\")\n",
    "with ZipFile(io.BytesIO(res.content)) as z:\n",
    "    z.extractall(\"./\")\n",
    "\n",
    "# with ZipFile(\"/content/gdrive/My Drive/INF8460/db.zip\", 'r') as z:\n",
    "#     z.extractall(\"/content/gdrive/My Drive/INF8460/\")"
   ]
  },
  {
   "cell_type": "code",
   "execution_count": 41,
   "metadata": {
    "colab": {},
    "colab_type": "code",
    "id": "yzt2RZMQjEp0"
   },
   "outputs": [
    {
     "name": "stdout",
     "output_type": "stream",
     "text": [
      "also_ADV -0.010121 -0.045202 -0.065609 0.015132 0.067412 0.067457 0.005200 -0.153164 -0.050638 -0.081471 0.053971 0.074861 -0.062235 0.091584 -0.048601 -0.023214 0.052767 -0.076846 -0.033229 -0.007595 -0.054715 0.064596 -0.010630 -0.065153 -0.031456 0.052015 0.005636 -0.041579 0.043295 -0.044257 0.025818 0.005696 0.110534 0.013128 -0.002946 -0.004512 0.039517 0.069489 0.020679 -0.067730 -0.005763 -0.042992 -0.013484 -0.082801 -0.066724 0.127138 0.041764 -0.002434 0.006208 0.016155 -0.044741 -0.079362 -0.030341 -0.017210 0.012339 -0.101248 -0.094563 0.011798 -0.042924 -0.042762 -0.036247 0.077573 -0.066359 -0.011267 0.003298 0.062303 -0.091183 -0.079705 0.082605 0.002720 0.031884 0.126548 -0.046439 -0.030660 -0.006838 -0.037806 -0.011841 0.021648 0.016093 -0.045517 -0.010233 0.016172 -0.004578 -0.012521 0.063142 0.055941 0.008301 -0.034055 -0.015036 -0.075381 0.079510 0.015551 0.073754 -0.116458 0.081208 -0.067220 0.010879 0.052340 0.017293 0.049937 0.017848 -0.009775 0.027912 0.078304 -0.066634 0.008326 0.033039 0.055740 -0.056108 -0.040312 0.019146 -0.124680 0.107838 0.000582 -0.110085 0.014312 -0.047150 -0.032633 0.082954 -0.008178 -0.031525 0.059432 0.092408 -0.020449 -0.017446 -0.056175 0.054681 -0.010591 0.051164 0.047954 -0.013753 -0.036349 -0.007606 -0.011699 0.095806 0.155704 -0.026165 0.093279 0.091076 -0.052304 0.067234 -0.023347 -0.034189 -0.044574 0.056639 -0.019020 0.011177 -0.005861 -0.010333 0.048470 0.068950 0.159028 -0.086121 0.024774 0.048481 0.037599 0.046501 -0.045079 -0.063068 0.067636 0.086628 -0.057217 -0.056594 0.072348 0.006449 0.029379 -0.040603 0.024336 0.060570 -0.019594 0.010998 0.028756 0.049679 0.042793 0.030326 -0.000819 0.015411 -0.038858 0.054938 -0.004107 0.019252 0.022748 0.052829 -0.001916 -0.019615 0.034986 -0.096756 -0.037791 -0.033148 0.050785 0.198963 -0.060882 0.005002 0.055147 0.009602 0.076103 -0.055627 -0.046623 -0.080292 -0.098937 0.051487 0.043702 -0.041611 -0.045988 0.025434 0.043686 0.015865 0.004361 -0.014009 -0.084988 -0.000110 -0.088446 -0.018437 0.079444 -0.069115 0.000498 -0.011074 -0.031319 0.083921 0.029855 0.077564 0.025111 -0.001492 0.082525 -0.034750 -0.026944 0.005932 0.046555 0.066511 0.067427 0.027483 -0.020540 -0.011338 0.084065 0.009354 -0.015082 0.029428 -0.043503 -0.005992 -0.077805 -0.164728 -0.056771 0.032369 0.061327 -0.039146 0.079384 0.056708 -0.068419 -0.044619 -0.040214 0.068558 -0.033650 0.081885 0.013203 -0.012023 0.008895 0.001718 0.055917 0.033936 0.021908 -0.024152 0.131217 -0.051549 -0.007024 0.076324 -0.012013 -0.076103 -0.009101 -0.077010 -0.066008 0.010673 -0.048759 -0.047525 0.026841 0.013496 -0.010267 0.005094 -0.070471 0.121053 0.024788 -0.135535 -0.041237 -0.122856 0.033178 0.072102 0.104300 -0.021022 -0.143143 -0.009738 0.099731 0.097889 0.048660 0.056487 0.031085 0.044916 0.002713 0.014726 -0.018186 -0.006203 -0.065423\n"
     ]
    }
   ],
   "source": [
    "with open(\"./model.txt\",'r', encoding = 'utf-8') as file:\n",
    "    pretrained_word2vec = file.read()\n",
    "    \n",
    "pretrained_word2vec = pretrained_word2vec.split('\\n')"
   ]
  },
  {
   "cell_type": "code",
   "execution_count": 0,
   "metadata": {
    "colab": {
     "base_uri": "https://localhost:8080/",
     "height": 34
    },
    "colab_type": "code",
    "id": "rDPYF1lflIYF",
    "outputId": "b88ec1ab-025d-48be-dcfa-ef3521a04825"
   },
   "outputs": [
    {
     "data": {
      "text/plain": [
       "296630"
      ]
     },
     "execution_count": 21,
     "metadata": {
      "tags": []
     },
     "output_type": "execute_result"
    }
   ],
   "source": [
    "vocab_size = int(pretrained_word2vec[0].split()[0])\n",
    "embedding_dim = int(pretrained_word2vec[0].split()[1])\n",
    "seq_len = 100                                                   # A TROUVER       \n",
    "embedding_matrix = np.zeros((vocab_size + 1, embedding_dim))"
   ]
  },
  {
   "cell_type": "code",
   "execution_count": 0,
   "metadata": {
    "colab": {},
    "colab_type": "code",
    "id": "D54kT-UniA3A"
   },
   "outputs": [],
   "source": [
    "from keras.layers import Dense, CuDNNLSTM, Dropout, Bidirectional, LSTM, Embedding"
   ]
  },
  {
   "cell_type": "code",
   "execution_count": 0,
   "metadata": {
    "colab": {},
    "colab_type": "code",
    "id": "JcVTEI7thzRl"
   },
   "outputs": [],
   "source": [
    "model = Sequential()\n",
    "model.add(Embedding(vocab_size, embedding_dim, input_len=seq_len, weights=[M], trainable=False))\n",
    "model.add(Bidirectional(CuDNNLSTM(hidden_size_lstm1, return_sequences=True, input_shape = input_shape)))\n",
    "if use_dropout: model.add(Dropout(rate = lstm_dropout))\n",
    "model.add(Bidirectional(CuDNNLSTM(output_size), merge_mode='ave'))\n",
    "model.compile(loss='binary_crossentropy', optimizer='adam', metrics=['acc'])\n",
    "model.build((None,input_shape[0],input_shape[1]))\n",
    "print(model.summary())"
   ]
  },
  {
   "cell_type": "markdown",
   "metadata": {
    "colab_type": "text",
    "id": "LmrOasqTIG44"
   },
   "source": [
    "### 5. Évaluation"
   ]
  },
  {
   "cell_type": "markdown",
   "metadata": {
    "colab_type": "text",
    "id": "nbaPXnS_IG45"
   },
   "source": [
    "**d)** Indiquez les performances de chacun de vos modèles. Comparez avec les modèles Naive Bayes et character-LM du TP précédent et commentez.\n",
    "\n",
    "Quel est votre meilleur modèle ?"
   ]
  },
  {
   "cell_type": "code",
   "execution_count": 0,
   "metadata": {
    "colab": {},
    "colab_type": "code",
    "id": "dwnGQS5wIG45"
   },
   "outputs": [],
   "source": []
  }
 ],
 "metadata": {
  "accelerator": "GPU",
  "colab": {
   "collapsed_sections": [],
   "name": "TP3_squelette.ipynb",
   "provenance": []
  },
  "kernelspec": {
   "display_name": "Python 3",
   "language": "python",
   "name": "python3"
  },
  "language_info": {
   "codemirror_mode": {
    "name": "ipython",
    "version": 3
   },
   "file_extension": ".py",
   "mimetype": "text/x-python",
   "name": "python",
   "nbconvert_exporter": "python",
   "pygments_lexer": "ipython3",
   "version": "3.6.4"
  }
 },
 "nbformat": 4,
 "nbformat_minor": 1
}
